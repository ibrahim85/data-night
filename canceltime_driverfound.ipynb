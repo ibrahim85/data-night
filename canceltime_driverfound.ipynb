{
 "cells": [
  {
   "cell_type": "code",
   "execution_count": 16,
   "metadata": {
    "collapsed": true
   },
   "outputs": [],
   "source": [
    "import numpy as np\n",
    "import pandas as pd\n",
    "import xgboost as xgb"
   ]
  },
  {
   "cell_type": "code",
   "execution_count": 17,
   "metadata": {
    "collapsed": false
   },
   "outputs": [],
   "source": [
    "data = pd.read_csv('../train.csv')\n",
    "X = pd.read_csv('X_preprocessed.csv')\n",
    "test = pd.read_csv('test_preprocessed.csv')\n",
    "y = pd.read_csv('y.csv').values[:, 1]"
   ]
  },
  {
   "cell_type": "markdown",
   "metadata": {},
   "source": [
    "# Cancel_time"
   ]
  },
  {
   "cell_type": "code",
   "execution_count": 12,
   "metadata": {
    "collapsed": false,
    "scrolled": true
   },
   "outputs": [],
   "source": [
    "cancel_times = data['cancel_time']\n",
    "cancel_times = np.log(cancel_times + np.array([2.]*len(cancel_times)))"
   ]
  },
  {
   "cell_type": "code",
   "execution_count": 20,
   "metadata": {
    "collapsed": true
   },
   "outputs": [],
   "source": [
    "params = {} \n",
    "params['objective']           = \"reg:linear\"\n",
    "params['booster']             = \"gbtree\"\n",
    "params['eta']                 = 0.05\n",
    "params['max_depth']           = 7\n",
    "params['subsample']           = 0.95\n",
    "params['colsample_bytree']    = 0.95\n",
    "params['seed']                = 1337\n",
    "params['njobs']               = -1\n",
    "params['silent']              = 1"
   ]
  },
  {
   "cell_type": "code",
   "execution_count": 22,
   "metadata": {
    "collapsed": false
   },
   "outputs": [],
   "source": [
    "            # bound = int(X.shape[0]*0.9)\n",
    "            # x_train, x_val = X[:bound], X[bound:]\n",
    "            # y_train, y_val = cancel_times[:bound], cancel_times[bound:]\n",
    "\n",
    "            # dtrain = xgb.DMatrix(x_train, y_train)\n",
    "            # dval = xgb.DMatrix(x_val, y_val)\n",
    "            # watchlist = [(dval,'eval')]\n",
    "\n",
    "            # num_trees = 3000\n",
    "            # esr = 10\n",
    "            # gbm = xgb.train(params, dtrain, num_trees, evals=watchlist, \n",
    "            #                 verbose_eval=True, early_stopping_rounds = esr)"
   ]
  },
  {
   "cell_type": "code",
   "execution_count": 25,
   "metadata": {
    "collapsed": false
   },
   "outputs": [],
   "source": [
    "dtrain = xgb.DMatrix(X, cancel_times)\n",
    "gbm = xgb.train(params, dtrain, 75)"
   ]
  },
  {
   "cell_type": "code",
   "execution_count": 27,
   "metadata": {
    "collapsed": false
   },
   "outputs": [],
   "source": [
    "dtrain = xgb.DMatrix(X)\n",
    "train_pred_cancel_time = gbm.predict(dtrain, ntree_limit=75)\n",
    "pd.DataFrame(train_pred_cancel_time).to_csv('feature_train_cancel_time.csv')"
   ]
  },
  {
   "cell_type": "code",
   "execution_count": 28,
   "metadata": {
    "collapsed": true
   },
   "outputs": [],
   "source": [
    "dtest = xgb.DMatrix(test)\n",
    "pred_cancel_time = gbm.predict(dtest, ntree_limit=75)\n",
    "pd.DataFrame(pred_cancel_time).to_csv('feature_test_cancel_time.csv')"
   ]
  },
  {
   "cell_type": "markdown",
   "metadata": {},
   "source": [
    "# Driver_found"
   ]
  },
  {
   "cell_type": "code",
   "execution_count": 29,
   "metadata": {
    "collapsed": true
   },
   "outputs": [],
   "source": [
    "driver_founds = data['driver_found']"
   ]
  },
  {
   "cell_type": "code",
   "execution_count": 30,
   "metadata": {
    "collapsed": true
   },
   "outputs": [],
   "source": [
    "params = {} \n",
    "params['objective']           = \"binary:logistic\"\n",
    "params['booster']             = \"gbtree\"\n",
    "params['eval_metric']         = \"auc\"\n",
    "params['eta']                 = 0.05\n",
    "params['max_depth']           = 7\n",
    "params['subsample']           = 0.95\n",
    "params['colsample_bytree']    = 0.95\n",
    "params['seed']                = 1337\n",
    "params['njobs']               = -1"
   ]
  },
  {
   "cell_type": "code",
   "execution_count": 33,
   "metadata": {
    "collapsed": false
   },
   "outputs": [],
   "source": [
    "            # bound = int(X.shape[0]*0.9)\n",
    "            # x_train, x_val = X[:bound], X[bound:]\n",
    "            # y_train, y_val = driver_founds[:bound], driver_founds[bound:]\n",
    "\n",
    "            # dtrain = xgb.DMatrix(x_train, y_train)\n",
    "            # dval = xgb.DMatrix(x_val, y_val)\n",
    "            # # dtest = xgb.DMatrix(test)\n",
    "            # watchlist = [(dval,'eval')]\n",
    "            # num_trees = 300\n",
    "            # esr = 10\n",
    "            # gbm = xgb.train(params, dtrain, num_trees, \n",
    "            #                 evals=watchlist, verbose_eval=True, \n",
    "            #                 early_stopping_rounds = esr)"
   ]
  },
  {
   "cell_type": "code",
   "execution_count": 34,
   "metadata": {
    "collapsed": true
   },
   "outputs": [],
   "source": [
    "dtrain = xgb.DMatrix(X, driver_founds)\n",
    "gbm = xgb.train(params, dtrain, 97)"
   ]
  },
  {
   "cell_type": "code",
   "execution_count": 36,
   "metadata": {
    "collapsed": false
   },
   "outputs": [],
   "source": [
    "dtrain = xgb.DMatrix(X)\n",
    "train_pred_driver_found = gbm.predict(dtrain, ntree_limit=97)\n",
    "pd.DataFrame(train_pred_driver_found).to_csv('feature_train_driver_found.csv')"
   ]
  },
  {
   "cell_type": "code",
   "execution_count": 37,
   "metadata": {
    "collapsed": true
   },
   "outputs": [],
   "source": [
    "dtest = xgb.DMatrix(test)\n",
    "pred_driver_found = gbm.predict(dtest, ntree_limit=97)\n",
    "pd.DataFrame(pred_driver_found).to_csv('feature_test_driver_found.csv')"
   ]
  },
  {
   "cell_type": "code",
   "execution_count": null,
   "metadata": {
    "collapsed": true
   },
   "outputs": [],
   "source": []
  }
 ],
 "metadata": {
  "kernelspec": {
   "display_name": "Python 2",
   "language": "python",
   "name": "python2"
  },
  "language_info": {
   "codemirror_mode": {
    "name": "ipython",
    "version": 2
   },
   "file_extension": ".py",
   "mimetype": "text/x-python",
   "name": "python",
   "nbconvert_exporter": "python",
   "pygments_lexer": "ipython2",
   "version": "2.7.11"
  }
 },
 "nbformat": 4,
 "nbformat_minor": 0
}
