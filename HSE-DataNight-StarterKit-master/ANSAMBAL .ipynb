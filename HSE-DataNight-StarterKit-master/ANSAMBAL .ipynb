{
 "cells": [
  {
   "cell_type": "code",
   "execution_count": 1,
   "metadata": {
    "collapsed": false,
    "scrolled": true
   },
   "outputs": [
    {
     "name": "stderr",
     "output_type": "stream",
     "text": [
      "/Users/lokotochek/anaconda/lib/python2.7/site-packages/pandas/computation/__init__.py:19: UserWarning: The installed version of numexpr 2.4.4 is not supported in pandas and will be not be used\n",
      "\n",
      "  UserWarning)\n"
     ]
    }
   ],
   "source": [
    "import pandas as pd\n",
    "import xgboost as xgb\n",
    "import numpy as np"
   ]
  },
  {
   "cell_type": "markdown",
   "metadata": {},
   "source": [
    "# ! сделать test_ids.csv, X/TEST_tot_paren.csv, X/TEST_forest.csv\n",
    "# !! потом попробовать ебнуть тупо 3 признака (предыдущий отсюда, тот парень, наш форест) - то есть тут сохранить X/TEST_pesdata.csv"
   ]
  },
  {
   "cell_type": "code",
   "execution_count": null,
   "metadata": {
    "collapsed": true
   },
   "outputs": [],
   "source": [
    "test_ids = pd.read_csv('test_ids.csv')"
   ]
  },
  {
   "cell_type": "code",
   "execution_count": null,
   "metadata": {
    "collapsed": true
   },
   "outputs": [],
   "source": [
    "X_NEW = pd.read_csv('X_NEW.csv')\n",
    "TEST_NEW = pd.read_csv('TEST_NEW.csv')\n",
    "\n",
    "X_tot_paren = pd.read_csv('X_tot_paren.csv')\n",
    "TEST_tot_paren = pd.read_csv('TEST_tot_paren.csv')\n",
    "\n",
    "X_NEW['tot_paren'] = X_tot_paren.values\n",
    "TEST_NEW['tot_paren'] = TEST_tot_paren.values\n",
    "\n",
    "X_forest = pd.read_csv('X_forest.csv')\n",
    "TEST_forest = pd.read_csv('TEST_forest.csv')\n",
    "\n",
    "X_NEW['forest'] = X_tot_paren.values\n",
    "TEST_NEW['forest'] = TEST_tot_paren.values"
   ]
  },
  {
   "cell_type": "code",
   "execution_count": null,
   "metadata": {
    "collapsed": true
   },
   "outputs": [],
   "source": [
    "y_new = pd.read_csv('evaluation.handout.csv')['burned']"
   ]
  },
  {
   "cell_type": "code",
   "execution_count": null,
   "metadata": {
    "collapsed": true
   },
   "outputs": [],
   "source": [
    "dtrain = xgb.DMatrix(X_NEW, y_new)\n",
    "dtest = xgb.DMatrix(TEST_NEW)"
   ]
  },
  {
   "cell_type": "code",
   "execution_count": null,
   "metadata": {
    "collapsed": true
   },
   "outputs": [],
   "source": [
    "params = {}  \n",
    "params['objective']           = \"binary:logistic\" \n",
    "params['booster']             = \"gbtree\"\n",
    "params['eval_metric']         = \"auc\"\n",
    "params['eta']                 = 0.06\n",
    "params['max_depth']           = 5\n",
    "params['subsample']           = 0.681\n",
    "params['colsample_bytree']    = 0.7\n",
    "\n",
    "bst = xgb.train(params=list(params.items()), dtrain, num_round=80)"
   ]
  },
  {
   "cell_type": "code",
   "execution_count": null,
   "metadata": {
    "collapsed": true
   },
   "outputs": [],
   "source": [
    "prediction = bst.predict(dtest)\n",
    "ans = pd.DataFrame(index=test_ids.values, data={'Y_prob': y_test})\n",
    "ans.to_csv('skr_v_beloy_mayke.csv')"
   ]
  }
 ],
 "metadata": {
  "kernelspec": {
   "display_name": "Python 2",
   "language": "python",
   "name": "python2"
  },
  "language_info": {
   "codemirror_mode": {
    "name": "ipython",
    "version": 2
   },
   "file_extension": ".py",
   "mimetype": "text/x-python",
   "name": "python",
   "nbconvert_exporter": "python",
   "pygments_lexer": "ipython2",
   "version": "2.7.11"
  }
 },
 "nbformat": 4,
 "nbformat_minor": 0
}
