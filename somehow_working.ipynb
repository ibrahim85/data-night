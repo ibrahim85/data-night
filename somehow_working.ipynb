{
 "cells": [
  {
   "cell_type": "code",
   "execution_count": 1,
   "metadata": {
    "collapsed": true
   },
   "outputs": [],
   "source": [
    "from matplotlib import pyplot as plt\n",
    "%matplotlib inline"
   ]
  },
  {
   "cell_type": "code",
   "execution_count": 2,
   "metadata": {
    "collapsed": false
   },
   "outputs": [],
   "source": [
    "import os,sys\n",
    "import numpy as np\n",
    "import pandas as pd\n",
    "import xgboost as xgb"
   ]
  },
  {
   "cell_type": "markdown",
   "metadata": {},
   "source": [
    "# Загрузим данные\n",
    " * При первом запуске скачаем train.csv и evaluation.csv\n",
    " * При повторных запусках файлы уже будут на месте"
   ]
  },
  {
   "cell_type": "code",
   "execution_count": 3,
   "metadata": {
    "collapsed": false
   },
   "outputs": [],
   "source": [
    "data = pd.DataFrame.from_csv(\"./train.csv\")"
   ]
  },
  {
   "cell_type": "code",
   "execution_count": 8,
   "metadata": {
    "collapsed": true
   },
   "outputs": [],
   "source": [
    "data = data.loc[data['cancel_time']<5000]\n",
    "X = data[data.columns[:len(data.columns)-1]]"
   ]
  },
  {
   "cell_type": "code",
   "execution_count": 9,
   "metadata": {
    "collapsed": true
   },
   "outputs": [],
   "source": [
    "y = data['burned']"
   ]
  },
  {
   "cell_type": "code",
   "execution_count": 10,
   "metadata": {
    "collapsed": true
   },
   "outputs": [],
   "source": [
    "test = pd.DataFrame.from_csv(\"./test.csv\")"
   ]
  },
  {
   "cell_type": "code",
   "execution_count": null,
   "metadata": {
    "collapsed": true
   },
   "outputs": [],
   "source": [
    "# len(X[X['cancel_time']<0])*1./len(X)\n",
    "# X = X.loc[X['cancel_time']<500]\n",
    "# plt.figure(figsize=(16, 8))\n",
    "# X_notminusone = X.loc[X['cancel_time']!=-1]\n",
    "# trsh = plt.hist(np.log(np.array([1.]*len(X_notminusone)) + X_notminusone['cancel_time'].values), bins=2000)\n",
    "# plt.xlim(0., 7.)\n",
    "# plt.ylim(0., 3000.)"
   ]
  },
  {
   "cell_type": "markdown",
   "metadata": {},
   "source": [
    "# попредсказываем cancel_time"
   ]
  },
  {
   "cell_type": "code",
   "execution_count": null,
   "metadata": {
    "collapsed": true
   },
   "outputs": [],
   "source": []
  },
  {
   "cell_type": "code",
   "execution_count": null,
   "metadata": {
    "collapsed": false
   },
   "outputs": [],
   "source": [
    "# plt.figure(figsize=(16, 8))\n",
    "# trash = plt.hist( data.loc[(data['burned']==1) & (data['cancel_time']<100000)]['cancel_time'], bins=1000 )\n",
    "# plt.ylim(0, 5000)\n",
    "# plt.xlim(0, 100000)"
   ]
  },
  {
   "cell_type": "code",
   "execution_count": null,
   "metadata": {
    "collapsed": false
   },
   "outputs": [],
   "source": [
    "# data.loc[(data['burned']==0)]['cancel_time'].value_counts()"
   ]
  },
  {
   "cell_type": "code",
   "execution_count": null,
   "metadata": {
    "collapsed": false
   },
   "outputs": [],
   "source": [
    "# data.loc[(data['burned']==1)]['cancel_time'].value_counts()"
   ]
  },
  {
   "cell_type": "code",
   "execution_count": null,
   "metadata": {
    "collapsed": false
   },
   "outputs": [],
   "source": [
    "test = pd.DataFrame.from_csv(\"./test.csv\")"
   ]
  },
  {
   "cell_type": "code",
   "execution_count": null,
   "metadata": {
    "collapsed": false
   },
   "outputs": [],
   "source": [
    "# test.head(1)"
   ]
  },
  {
   "cell_type": "markdown",
   "metadata": {},
   "source": [
    "# citycenters"
   ]
  },
  {
   "cell_type": "code",
   "execution_count": null,
   "metadata": {
    "collapsed": true
   },
   "outputs": [],
   "source": [
    "#!!!!!\n",
    "# X = pd.DataFrame.from_csv(\"./train_with_cityid.csv\")"
   ]
  },
  {
   "cell_type": "code",
   "execution_count": 11,
   "metadata": {
    "collapsed": false
   },
   "outputs": [],
   "source": [
    "centers = [\n",
    "    [55.754216, 37.61343],  #0\n",
    "    [51.661535, 39.200287], #1\n",
    "    [56.326887, 44.005986], #2\n",
    "    [55.798551, 49.106324], #3\n",
    "    [59.939095, 30.315868]  #4\n",
    "]\n",
    "\n",
    "from geopy.distance import vincenty\n",
    "\n",
    "minminmin = 10**15\n",
    "\n",
    "def city_id(coords):\n",
    "    mn = 0\n",
    "    min_value = minminmin\n",
    "    for i in range(len(centers)):\n",
    "        \n",
    "        dist = vincenty(coords, centers[i]).km\n",
    "        if (dist < min_value):\n",
    "            min_value = dist\n",
    "            mn = i\n",
    "    if (min_value > 10**3):\n",
    "        return -1\n",
    "    return mn"
   ]
  },
  {
   "cell_type": "code",
   "execution_count": 12,
   "metadata": {
    "collapsed": false
   },
   "outputs": [],
   "source": [
    "XV = X.values\n",
    "X['city_id'] = [city_id([x[5], x[6]]) for x in XV]"
   ]
  },
  {
   "cell_type": "code",
   "execution_count": 13,
   "metadata": {
    "collapsed": true
   },
   "outputs": [],
   "source": [
    "X.to_csv('train_with_cityid.csv')"
   ]
  },
  {
   "cell_type": "code",
   "execution_count": null,
   "metadata": {
    "collapsed": true
   },
   "outputs": [],
   "source": [
    "# X = pd.read_csv('train_with_cityid.csv')"
   ]
  },
  {
   "cell_type": "code",
   "execution_count": 14,
   "metadata": {
    "collapsed": false
   },
   "outputs": [],
   "source": [
    "testV = test.values\n",
    "test['city_id'] = [city_id([x[3], x[4]]) for x in testV]"
   ]
  },
  {
   "cell_type": "code",
   "execution_count": 15,
   "metadata": {
    "collapsed": true
   },
   "outputs": [],
   "source": [
    "test.to_csv('test_with_cityid.csv')"
   ]
  },
  {
   "cell_type": "code",
   "execution_count": null,
   "metadata": {
    "collapsed": true
   },
   "outputs": [],
   "source": [
    "# test = pd.read_csv('test_with_cityid.csv')"
   ]
  },
  {
   "cell_type": "markdown",
   "metadata": {},
   "source": [
    "# concat"
   ]
  },
  {
   "cell_type": "code",
   "execution_count": 34,
   "metadata": {
    "collapsed": false
   },
   "outputs": [
    {
     "name": "stdout",
     "output_type": "stream",
     "text": [
      "1692477\n",
      "1500337\n"
     ]
    }
   ],
   "source": [
    "print len(X.loc[X['driver_found']==True])\n",
    "print len(y[y==False])\n"
   ]
  },
  {
   "cell_type": "code",
   "execution_count": 36,
   "metadata": {
    "collapsed": false
   },
   "outputs": [],
   "source": [
    "x_col = ['dist', 'due', 'lat', 'lon', 'f_class', 's_class', 't_class', 'city_id']\n",
    "X_and_test = pd.concat([X[x_col], test[x_col]])"
   ]
  },
  {
   "cell_type": "markdown",
   "metadata": {},
   "source": [
    "# Preprocessing"
   ]
  },
  {
   "cell_type": "code",
   "execution_count": 37,
   "metadata": {
    "collapsed": false
   },
   "outputs": [],
   "source": [
    "#Используем данные о праздниках отсюда - http://eduscan.net/help/calendar2014 http://newslab.ru/article/559455\n",
    "\n",
    "holidays = \"1.01,2.01,3.01,4.01,5.01,6.01,7.01,8.01,\"\\\n",
    "\"23.02,8.03,9.03,10.03,1.05,2.05,3.05,4.05,9.05,10.05,11.05,12.06,13.06\".split(',')\n",
    "\n",
    "holidays = map(lambda s: tuple(map(int,s.split('.'))),holidays)\n",
    "\n",
    "#вытаскиватель категориальных фичей\n",
    "from sklearn.feature_extraction import DictVectorizer\n",
    "vectorizer = DictVectorizer(sparse=False,dtype=np.bool)\n",
    "\n",
    "# используем встроенный питоновый парсер времени\n",
    "from dateutil import parser\n",
    "\n",
    "def preprocess_data(X_raw):\n",
    "\n",
    "    #распарсим время\n",
    "    datetimes = list(X_raw.due.apply(lambda x: parser.parse(x)))\n",
    "\n",
    "    #время дня от 0 до 1\n",
    "    rel_times = map(lambda dt: (dt.hour*60 + dt.minute)/(24.*60), datetimes)\n",
    "\n",
    "    #день недели\n",
    "    week_days = map( lambda x: x.isoweekday() , datetimes)\n",
    "\n",
    "    rel_times = np.array(rel_times)\n",
    "    week_days = np.array(week_days)\n",
    "    \n",
    "    is_holiday = map(lambda dt: (dt.day,dt.month) in holidays,\n",
    "                 datetimes)\n",
    "\n",
    "    dow_names = ['mon','tue','wed','thu','fri','sat','sun']\n",
    "    \n",
    "    \n",
    "    data_dict = ( {'city_id':str(city_id), \n",
    "                   'f_class':f,\n",
    "                   's_class':(s if (pd.isnull(s)) else (str(f) + str(s))),\n",
    "                   't_class':(t if (pd.isnull(t)) else(str(f) + str(s) + str(t))),\n",
    "                   'day_of_week':dow_names[day_of_week-1]}\n",
    "                 \n",
    "            for (city_id,f,s,t),day_of_week in zip(X_raw[['city_id', \n",
    "                                                         'f_class',\n",
    "                                                         's_class',\n",
    "                                                         't_class']].values, week_days) )\n",
    "\n",
    "    \n",
    "    Xcat = vectorizer.fit_transform(data_dict)\n",
    "\n",
    "    other_features = [\"dist\",\"lat\",\"lon\"]\n",
    "    \n",
    "    Xreal = X_raw[other_features].values\n",
    "    \n",
    "    \n",
    "    Xfull = np.concatenate([\n",
    "            Xreal,\n",
    "            Xcat            \n",
    "        ],axis=1)\n",
    "    \n",
    "    Xfull = pd.DataFrame(Xfull,columns=other_features+vectorizer.feature_names_)\n",
    "    \n",
    "    Xfull[\"time_of_day_rel\"] = rel_times\n",
    "    Xfull[\"is_holiday\"] = is_holiday\n",
    "\n",
    "    \n",
    "    return Xfull"
   ]
  },
  {
   "cell_type": "code",
   "execution_count": 38,
   "metadata": {
    "collapsed": false
   },
   "outputs": [],
   "source": [
    "X_and_test = preprocess_data(X_and_test)"
   ]
  },
  {
   "cell_type": "code",
   "execution_count": 39,
   "metadata": {
    "collapsed": true
   },
   "outputs": [],
   "source": [
    "X_and_test.to_csv('trainplustest_preprocessed.csv')"
   ]
  },
  {
   "cell_type": "code",
   "execution_count": null,
   "metadata": {
    "collapsed": true
   },
   "outputs": [],
   "source": [
    "X.shape"
   ]
  },
  {
   "cell_type": "code",
   "execution_count": null,
   "metadata": {
    "collapsed": false
   },
   "outputs": [],
   "source": [
    "X.columns"
   ]
  },
  {
   "cell_type": "code",
   "execution_count": 41,
   "metadata": {
    "collapsed": false
   },
   "outputs": [],
   "source": [
    "# y = data['burned'].values\n",
    "X_NEW = X_and_test.head(len(y))\n",
    "TEST_NEW = X_and_test[len(y):]"
   ]
  },
  {
   "cell_type": "code",
   "execution_count": null,
   "metadata": {
    "collapsed": true
   },
   "outputs": [],
   "source": [
    "# X_NEW_copy = X_NEW.copy()\n",
    "# TEST_NEW_copy = TEST_NEW.copy()"
   ]
  },
  {
   "cell_type": "code",
   "execution_count": 43,
   "metadata": {
    "collapsed": false
   },
   "outputs": [
    {
     "name": "stdout",
     "output_type": "stream",
     "text": [
      "(1780518, 36) (1780518,)\n"
     ]
    }
   ],
   "source": [
    "print X_NEW.shape, y.shape"
   ]
  },
  {
   "cell_type": "code",
   "execution_count": 45,
   "metadata": {
    "collapsed": true
   },
   "outputs": [],
   "source": [
    "X = X_NEW.copy()\n",
    "test = TEST_NEW.copy()"
   ]
  },
  {
   "cell_type": "markdown",
   "metadata": {},
   "source": [
    "# cross validation"
   ]
  },
  {
   "cell_type": "code",
   "execution_count": null,
   "metadata": {
    "collapsed": true
   },
   "outputs": [],
   "source": []
  },
  {
   "cell_type": "markdown",
   "metadata": {
    "collapsed": false
   },
   "source": [
    "# learning"
   ]
  },
  {
   "cell_type": "code",
   "execution_count": 53,
   "metadata": {
    "collapsed": true
   },
   "outputs": [],
   "source": [
    "import xgboost as xgb"
   ]
  },
  {
   "cell_type": "code",
   "execution_count": 61,
   "metadata": {
    "collapsed": true
   },
   "outputs": [],
   "source": [
    "params = {} \n",
    "params['objective']           = \"binary:logistic\" \n",
    "params['booster']             = \"gbtree\"\n",
    "params['eval_metric']         = \"auc\"\n",
    "params['eta']                 = 0.006\n",
    "params['max_depth']           = 7\n",
    "params['subsample']           = 0.681\n",
    "params['colsample_bytree']    = 0.95\n",
    "params['seed']                = 1337\n",
    "params['njobs']               = -1\n",
    "params['silent']              = 1"
   ]
  },
  {
   "cell_type": "code",
   "execution_count": 63,
   "metadata": {
    "collapsed": false
   },
   "outputs": [],
   "source": [
    "bound = int(X.shape[0]*0.9)\n",
    "x_train, x_val = X[:bound], X[bound:]\n",
    "y_train, y_val = y[:bound], y[bound:]\n",
    " \n",
    "dtrain = xgb.DMatrix(x_train, y_train)\n",
    "dval = xgb.DMatrix(x_val, y_val)\n",
    "dtest = xgb.DMatrix(test)\n",
    "watchlist = [(dval,'eval')]"
   ]
  },
  {
   "cell_type": "code",
   "execution_count": 64,
   "metadata": {
    "collapsed": false
   },
   "outputs": [
    {
     "name": "stderr",
     "output_type": "stream",
     "text": [
      "Will train until eval error hasn't decreased in 12 rounds.\n",
      "[0]\teval-auc:0.641062\n",
      "[1]\teval-auc:0.648593\n",
      "[2]\teval-auc:0.648648\n",
      "[3]\teval-auc:0.650024\n",
      "[4]\teval-auc:0.650366\n",
      "[5]\teval-auc:0.658362\n",
      "[6]\teval-auc:0.660367\n",
      "[7]\teval-auc:0.660407\n",
      "[8]\teval-auc:0.660774\n",
      "[9]\teval-auc:0.660544\n",
      "[10]\teval-auc:0.660501\n",
      "[11]\teval-auc:0.660405\n",
      "[12]\teval-auc:0.660312\n",
      "[13]\teval-auc:0.660376\n",
      "[14]\teval-auc:0.660240\n",
      "[15]\teval-auc:0.660197\n",
      "[16]\teval-auc:0.660120\n",
      "[17]\teval-auc:0.660152\n",
      "[18]\teval-auc:0.661521\n",
      "[19]\teval-auc:0.661380\n",
      "[20]\teval-auc:0.661491\n",
      "[21]\teval-auc:0.661745\n",
      "[22]\teval-auc:0.661880\n",
      "[23]\teval-auc:0.661754\n",
      "[24]\teval-auc:0.661848\n",
      "[25]\teval-auc:0.661795\n",
      "[26]\teval-auc:0.661764\n",
      "[27]\teval-auc:0.662528\n",
      "[28]\teval-auc:0.662439\n",
      "[29]\teval-auc:0.662438\n",
      "[30]\teval-auc:0.662534\n",
      "[31]\teval-auc:0.662583\n",
      "[32]\teval-auc:0.662675\n",
      "[33]\teval-auc:0.662769\n",
      "[34]\teval-auc:0.662712\n",
      "[35]\teval-auc:0.662839\n",
      "[36]\teval-auc:0.663007\n",
      "[37]\teval-auc:0.663083\n",
      "[38]\teval-auc:0.663105\n",
      "[39]\teval-auc:0.663063\n",
      "[40]\teval-auc:0.663158\n",
      "[41]\teval-auc:0.663133\n",
      "[42]\teval-auc:0.663118\n",
      "[43]\teval-auc:0.663154\n",
      "[44]\teval-auc:0.663179\n",
      "[45]\teval-auc:0.663142\n",
      "[46]\teval-auc:0.663174\n",
      "[47]\teval-auc:0.663247\n",
      "[48]\teval-auc:0.663305\n",
      "[49]\teval-auc:0.663306\n",
      "[50]\teval-auc:0.663362\n",
      "[51]\teval-auc:0.663355\n",
      "[52]\teval-auc:0.663367\n",
      "[53]\teval-auc:0.663407\n",
      "[54]\teval-auc:0.663390\n",
      "[55]\teval-auc:0.663500\n",
      "[56]\teval-auc:0.663471\n",
      "[57]\teval-auc:0.663466\n",
      "[58]\teval-auc:0.663613\n",
      "[59]\teval-auc:0.663703\n",
      "[60]\teval-auc:0.663706\n",
      "[61]\teval-auc:0.663755\n",
      "[62]\teval-auc:0.663860\n",
      "[63]\teval-auc:0.663885\n",
      "[64]\teval-auc:0.663920\n",
      "[65]\teval-auc:0.663951\n",
      "[66]\teval-auc:0.663917\n",
      "[67]\teval-auc:0.663968\n",
      "[68]\teval-auc:0.663971\n",
      "[69]\teval-auc:0.663951\n",
      "[70]\teval-auc:0.663987\n",
      "[71]\teval-auc:0.664026\n",
      "[72]\teval-auc:0.664061\n",
      "[73]\teval-auc:0.664108\n",
      "[74]\teval-auc:0.664211\n",
      "[75]\teval-auc:0.664271\n",
      "[76]\teval-auc:0.664311\n",
      "[77]\teval-auc:0.664355\n",
      "[78]\teval-auc:0.664421\n",
      "[79]\teval-auc:0.664446\n",
      "[80]\teval-auc:0.664480\n",
      "[81]\teval-auc:0.664562\n",
      "[82]\teval-auc:0.664566\n",
      "[83]\teval-auc:0.664586\n",
      "[84]\teval-auc:0.664725\n",
      "[85]\teval-auc:0.664718\n",
      "[86]\teval-auc:0.664754\n",
      "[87]\teval-auc:0.664752\n",
      "[88]\teval-auc:0.664775\n",
      "[89]\teval-auc:0.664857\n",
      "[90]\teval-auc:0.664891\n",
      "[91]\teval-auc:0.664900\n",
      "[92]\teval-auc:0.664953\n",
      "[93]\teval-auc:0.664820\n",
      "[94]\teval-auc:0.664908\n",
      "[95]\teval-auc:0.664927\n",
      "[96]\teval-auc:0.665280\n",
      "[97]\teval-auc:0.665287\n",
      "[98]\teval-auc:0.665320\n",
      "[99]\teval-auc:0.665347\n",
      "[100]\teval-auc:0.665387\n",
      "[101]\teval-auc:0.665482\n",
      "[102]\teval-auc:0.665478\n",
      "[103]\teval-auc:0.665503\n",
      "[104]\teval-auc:0.665538\n",
      "[105]\teval-auc:0.665586\n",
      "[106]\teval-auc:0.665584\n",
      "[107]\teval-auc:0.665616\n",
      "[108]\teval-auc:0.665652\n",
      "[109]\teval-auc:0.665669\n",
      "[110]\teval-auc:0.665757\n",
      "[111]\teval-auc:0.665761\n",
      "[112]\teval-auc:0.665848\n",
      "[113]\teval-auc:0.665861\n",
      "[114]\teval-auc:0.665956\n",
      "[115]\teval-auc:0.665995\n",
      "[116]\teval-auc:0.666027\n",
      "[117]\teval-auc:0.666042\n",
      "[118]\teval-auc:0.666054\n",
      "[119]\teval-auc:0.665987\n",
      "[120]\teval-auc:0.666032\n",
      "[121]\teval-auc:0.666029\n",
      "[122]\teval-auc:0.666062\n",
      "[123]\teval-auc:0.666082\n",
      "[124]\teval-auc:0.666118\n",
      "[125]\teval-auc:0.666143\n",
      "[126]\teval-auc:0.666183\n",
      "[127]\teval-auc:0.666198\n",
      "[128]\teval-auc:0.666231\n",
      "[129]\teval-auc:0.666273\n",
      "[130]\teval-auc:0.666274\n",
      "[131]\teval-auc:0.666290\n",
      "[132]\teval-auc:0.666283\n",
      "[133]\teval-auc:0.666305\n",
      "[134]\teval-auc:0.666342\n",
      "[135]\teval-auc:0.666385\n",
      "[136]\teval-auc:0.666346\n",
      "[137]\teval-auc:0.666361\n",
      "[138]\teval-auc:0.666386\n",
      "[139]\teval-auc:0.666348\n",
      "[140]\teval-auc:0.666399\n",
      "[141]\teval-auc:0.666447\n",
      "[142]\teval-auc:0.666398\n",
      "[143]\teval-auc:0.666418\n",
      "[144]\teval-auc:0.666415\n",
      "[145]\teval-auc:0.666487\n",
      "[146]\teval-auc:0.666551\n",
      "[147]\teval-auc:0.666563\n",
      "[148]\teval-auc:0.666588\n",
      "[149]\teval-auc:0.666606\n",
      "[150]\teval-auc:0.666771\n",
      "[151]\teval-auc:0.666768\n",
      "[152]\teval-auc:0.666861\n",
      "[153]\teval-auc:0.666882\n",
      "[154]\teval-auc:0.666905\n",
      "[155]\teval-auc:0.666916\n",
      "[156]\teval-auc:0.666953\n",
      "[157]\teval-auc:0.666969\n",
      "[158]\teval-auc:0.666933\n",
      "[159]\teval-auc:0.666974\n",
      "[160]\teval-auc:0.667020\n",
      "[161]\teval-auc:0.666983\n",
      "[162]\teval-auc:0.667053\n",
      "[163]\teval-auc:0.667071\n",
      "[164]\teval-auc:0.667086\n",
      "[165]\teval-auc:0.667105\n",
      "[166]\teval-auc:0.667133\n",
      "[167]\teval-auc:0.667140\n",
      "[168]\teval-auc:0.667171\n",
      "[169]\teval-auc:0.667198\n",
      "[170]\teval-auc:0.667212\n",
      "[171]\teval-auc:0.667203\n",
      "[172]\teval-auc:0.667245\n",
      "[173]\teval-auc:0.667240\n",
      "[174]\teval-auc:0.667253\n",
      "[175]\teval-auc:0.667303\n",
      "[176]\teval-auc:0.667322\n",
      "[177]\teval-auc:0.667351\n",
      "[178]\teval-auc:0.667372\n",
      "[179]\teval-auc:0.667384\n",
      "[180]\teval-auc:0.667669\n",
      "[181]\teval-auc:0.667679\n",
      "[182]\teval-auc:0.667689\n",
      "[183]\teval-auc:0.667688\n",
      "[184]\teval-auc:0.667706\n",
      "[185]\teval-auc:0.667746\n",
      "[186]\teval-auc:0.667803\n",
      "[187]\teval-auc:0.667839\n",
      "[188]\teval-auc:0.667882\n",
      "[189]\teval-auc:0.667888\n",
      "[190]\teval-auc:0.667910\n",
      "[191]\teval-auc:0.667935\n",
      "[192]\teval-auc:0.667924\n",
      "[193]\teval-auc:0.667952\n",
      "[194]\teval-auc:0.667963\n",
      "[195]\teval-auc:0.667988\n",
      "[196]\teval-auc:0.668000\n",
      "[197]\teval-auc:0.668007\n",
      "[198]\teval-auc:0.668030\n",
      "[199]\teval-auc:0.668042\n",
      "[200]\teval-auc:0.668056\n",
      "[201]\teval-auc:0.668092\n",
      "[202]\teval-auc:0.668133\n",
      "[203]\teval-auc:0.668160\n",
      "[204]\teval-auc:0.668181\n",
      "[205]\teval-auc:0.668213\n",
      "[206]\teval-auc:0.668230\n",
      "[207]\teval-auc:0.668229\n",
      "[208]\teval-auc:0.668255\n",
      "[209]\teval-auc:0.668275\n",
      "[210]\teval-auc:0.668284\n",
      "[211]\teval-auc:0.668285\n",
      "[212]\teval-auc:0.668290\n",
      "[213]\teval-auc:0.668311\n",
      "[214]\teval-auc:0.668316\n",
      "[215]\teval-auc:0.668343\n",
      "[216]\teval-auc:0.668356\n",
      "[217]\teval-auc:0.668421\n",
      "[218]\teval-auc:0.668428\n",
      "[219]\teval-auc:0.668406\n",
      "[220]\teval-auc:0.668403\n",
      "[221]\teval-auc:0.668377\n",
      "[222]\teval-auc:0.668401\n",
      "[223]\teval-auc:0.668429\n",
      "[224]\teval-auc:0.668415\n",
      "[225]\teval-auc:0.668434\n",
      "[226]\teval-auc:0.668462\n",
      "[227]\teval-auc:0.668464\n",
      "[228]\teval-auc:0.668483\n",
      "[229]\teval-auc:0.668484\n",
      "[230]\teval-auc:0.668481\n",
      "[231]\teval-auc:0.668505\n",
      "[232]\teval-auc:0.668506\n",
      "[233]\teval-auc:0.668526\n",
      "[234]\teval-auc:0.668518\n",
      "[235]\teval-auc:0.668535\n",
      "[236]\teval-auc:0.668548\n",
      "[237]\teval-auc:0.668609\n",
      "[238]\teval-auc:0.668617\n",
      "[239]\teval-auc:0.668684\n",
      "[240]\teval-auc:0.668731\n",
      "[241]\teval-auc:0.668731\n",
      "[242]\teval-auc:0.668730\n",
      "[243]\teval-auc:0.668797\n",
      "[244]\teval-auc:0.668817\n",
      "[245]\teval-auc:0.668852\n",
      "[246]\teval-auc:0.668884\n",
      "[247]\teval-auc:0.668889\n",
      "[248]\teval-auc:0.668913\n",
      "[249]\teval-auc:0.668955\n",
      "[250]\teval-auc:0.668975\n",
      "[251]\teval-auc:0.668988\n",
      "[252]\teval-auc:0.668996\n",
      "[253]\teval-auc:0.669003\n",
      "[254]\teval-auc:0.669019\n",
      "[255]\teval-auc:0.669040\n",
      "[256]\teval-auc:0.669057\n",
      "[257]\teval-auc:0.669069\n",
      "[258]\teval-auc:0.669096\n",
      "[259]\teval-auc:0.669124\n",
      "[260]\teval-auc:0.669127\n",
      "[261]\teval-auc:0.669137\n",
      "[262]\teval-auc:0.669150\n",
      "[263]\teval-auc:0.669148\n",
      "[264]\teval-auc:0.669167\n",
      "[265]\teval-auc:0.669176\n",
      "[266]\teval-auc:0.669192\n",
      "[267]\teval-auc:0.669207\n",
      "[268]\teval-auc:0.669247\n",
      "[269]\teval-auc:0.669261\n",
      "[270]\teval-auc:0.669261\n",
      "[271]\teval-auc:0.669275\n",
      "[272]\teval-auc:0.669291\n",
      "[273]\teval-auc:0.669294\n",
      "[274]\teval-auc:0.669314\n",
      "[275]\teval-auc:0.669408\n",
      "[276]\teval-auc:0.669437\n",
      "[277]\teval-auc:0.669456\n",
      "[278]\teval-auc:0.669489\n",
      "[279]\teval-auc:0.669511\n",
      "[280]\teval-auc:0.669533\n",
      "[281]\teval-auc:0.669538\n",
      "[282]\teval-auc:0.669548\n",
      "[283]\teval-auc:0.669562\n",
      "[284]\teval-auc:0.669582\n",
      "[285]\teval-auc:0.669605\n",
      "[286]\teval-auc:0.669628\n",
      "[287]\teval-auc:0.669632\n",
      "[288]\teval-auc:0.669638\n",
      "[289]\teval-auc:0.669650\n",
      "[290]\teval-auc:0.669685\n",
      "[291]\teval-auc:0.669692\n",
      "[292]\teval-auc:0.669695\n",
      "[293]\teval-auc:0.669695\n",
      "[294]\teval-auc:0.669697\n",
      "[295]\teval-auc:0.669695\n",
      "[296]\teval-auc:0.669697\n",
      "[297]\teval-auc:0.669762\n",
      "[298]\teval-auc:0.669808\n",
      "[299]\teval-auc:0.669833\n",
      "[300]\teval-auc:0.669851\n",
      "[301]\teval-auc:0.669858\n",
      "[302]\teval-auc:0.669863\n",
      "[303]\teval-auc:0.669877\n",
      "[304]\teval-auc:0.669892\n",
      "[305]\teval-auc:0.669906\n",
      "[306]\teval-auc:0.669933\n",
      "[307]\teval-auc:0.669944\n",
      "[308]\teval-auc:0.669957\n",
      "[309]\teval-auc:0.669972\n",
      "[310]\teval-auc:0.669980\n",
      "[311]\teval-auc:0.669985\n",
      "[312]\teval-auc:0.670003\n",
      "[313]\teval-auc:0.670029\n",
      "[314]\teval-auc:0.670043\n",
      "[315]\teval-auc:0.670047\n",
      "[316]\teval-auc:0.670062\n",
      "[317]\teval-auc:0.670067\n",
      "[318]\teval-auc:0.670085\n",
      "[319]\teval-auc:0.670089\n",
      "[320]\teval-auc:0.670093\n",
      "[321]\teval-auc:0.670100\n",
      "[322]\teval-auc:0.670110\n",
      "[323]\teval-auc:0.670108\n",
      "[324]\teval-auc:0.670123\n",
      "[325]\teval-auc:0.670119\n",
      "[326]\teval-auc:0.670131\n",
      "[327]\teval-auc:0.670135\n",
      "[328]\teval-auc:0.670144\n",
      "[329]\teval-auc:0.670157\n",
      "[330]\teval-auc:0.670177\n",
      "[331]\teval-auc:0.670213\n",
      "[332]\teval-auc:0.670228\n",
      "[333]\teval-auc:0.670251\n",
      "[334]\teval-auc:0.670261\n",
      "[335]\teval-auc:0.670271\n",
      "[336]\teval-auc:0.670275\n",
      "[337]\teval-auc:0.670279\n",
      "[338]\teval-auc:0.670292\n",
      "[339]\teval-auc:0.670289\n",
      "[340]\teval-auc:0.670309\n",
      "[341]\teval-auc:0.670320\n",
      "[342]\teval-auc:0.670338\n",
      "[343]\teval-auc:0.670345\n",
      "[344]\teval-auc:0.670364\n",
      "[345]\teval-auc:0.670377\n",
      "[346]\teval-auc:0.670368\n",
      "[347]\teval-auc:0.670374\n",
      "[348]\teval-auc:0.670391\n",
      "[349]\teval-auc:0.670410\n",
      "[350]\teval-auc:0.670426\n",
      "[351]\teval-auc:0.670431\n",
      "[352]\teval-auc:0.670435\n",
      "[353]\teval-auc:0.670446\n",
      "[354]\teval-auc:0.670467\n",
      "[355]\teval-auc:0.670486\n",
      "[356]\teval-auc:0.670497\n",
      "[357]\teval-auc:0.670496\n",
      "[358]\teval-auc:0.670498\n",
      "[359]\teval-auc:0.670501\n",
      "[360]\teval-auc:0.670519\n",
      "[361]\teval-auc:0.670522\n",
      "[362]\teval-auc:0.670525\n",
      "[363]\teval-auc:0.670537\n",
      "[364]\teval-auc:0.670559\n",
      "[365]\teval-auc:0.670567\n",
      "[366]\teval-auc:0.670571\n",
      "[367]\teval-auc:0.670561\n",
      "[368]\teval-auc:0.670566\n",
      "[369]\teval-auc:0.670573\n",
      "[370]\teval-auc:0.670606\n",
      "[371]\teval-auc:0.670603\n",
      "[372]\teval-auc:0.670622\n",
      "[373]\teval-auc:0.670630\n",
      "[374]\teval-auc:0.670644\n",
      "[375]\teval-auc:0.670633\n",
      "[376]\teval-auc:0.670643\n",
      "[377]\teval-auc:0.670643\n",
      "[378]\teval-auc:0.670670\n",
      "[379]\teval-auc:0.670678\n",
      "[380]\teval-auc:0.670676\n",
      "[381]\teval-auc:0.670662\n",
      "[382]\teval-auc:0.670655\n",
      "[383]\teval-auc:0.670665\n",
      "[384]\teval-auc:0.670680\n",
      "[385]\teval-auc:0.670688\n",
      "[386]\teval-auc:0.670700\n",
      "[387]\teval-auc:0.670705\n",
      "[388]\teval-auc:0.670702\n",
      "[389]\teval-auc:0.670694\n",
      "[390]\teval-auc:0.670698\n",
      "[391]\teval-auc:0.670727\n",
      "[392]\teval-auc:0.670736\n",
      "[393]\teval-auc:0.670747\n",
      "[394]\teval-auc:0.670765\n",
      "[395]\teval-auc:0.670773\n",
      "[396]\teval-auc:0.670804\n",
      "[397]\teval-auc:0.670829\n",
      "[398]\teval-auc:0.670841\n",
      "[399]\teval-auc:0.670848\n",
      "[400]\teval-auc:0.670854\n",
      "[401]\teval-auc:0.670885\n",
      "[402]\teval-auc:0.670894\n",
      "[403]\teval-auc:0.670891\n",
      "[404]\teval-auc:0.670885\n",
      "[405]\teval-auc:0.670897\n",
      "[406]\teval-auc:0.670920\n",
      "[407]\teval-auc:0.670951\n",
      "[408]\teval-auc:0.670959\n",
      "[409]\teval-auc:0.670973\n",
      "[410]\teval-auc:0.670995\n",
      "[411]\teval-auc:0.670992\n",
      "[412]\teval-auc:0.670996\n",
      "[413]\teval-auc:0.671014\n",
      "[414]\teval-auc:0.671023\n",
      "[415]\teval-auc:0.671034\n",
      "[416]\teval-auc:0.671027\n",
      "[417]\teval-auc:0.671032\n",
      "[418]\teval-auc:0.671039\n",
      "[419]\teval-auc:0.671040\n",
      "[420]\teval-auc:0.671034\n",
      "[421]\teval-auc:0.671028\n",
      "[422]\teval-auc:0.671040\n",
      "[423]\teval-auc:0.671024\n",
      "[424]\teval-auc:0.671043\n",
      "[425]\teval-auc:0.671048\n",
      "[426]\teval-auc:0.671050\n",
      "[427]\teval-auc:0.671082\n",
      "[428]\teval-auc:0.671092\n",
      "[429]\teval-auc:0.671092\n",
      "[430]\teval-auc:0.671107\n",
      "[431]\teval-auc:0.671122\n",
      "[432]\teval-auc:0.671133\n",
      "[433]\teval-auc:0.671123\n",
      "[434]\teval-auc:0.671123\n",
      "[435]\teval-auc:0.671132\n",
      "[436]\teval-auc:0.671136\n",
      "[437]\teval-auc:0.671162\n",
      "[438]\teval-auc:0.671144\n",
      "[439]\teval-auc:0.671158\n",
      "[440]\teval-auc:0.671161\n",
      "[441]\teval-auc:0.671166\n",
      "[442]\teval-auc:0.671182\n",
      "[443]\teval-auc:0.671192\n",
      "[444]\teval-auc:0.671204\n",
      "[445]\teval-auc:0.671220\n",
      "[446]\teval-auc:0.671229\n",
      "[447]\teval-auc:0.671240\n",
      "[448]\teval-auc:0.671239\n",
      "[449]\teval-auc:0.671246\n",
      "[450]\teval-auc:0.671246\n",
      "[451]\teval-auc:0.671245\n",
      "[452]\teval-auc:0.671260\n",
      "[453]\teval-auc:0.671252\n",
      "[454]\teval-auc:0.671261\n",
      "[455]\teval-auc:0.671274\n",
      "[456]\teval-auc:0.671289\n",
      "[457]\teval-auc:0.671294\n",
      "[458]\teval-auc:0.671306\n",
      "[459]\teval-auc:0.671316\n",
      "[460]\teval-auc:0.671321\n",
      "[461]\teval-auc:0.671332\n",
      "[462]\teval-auc:0.671338\n",
      "[463]\teval-auc:0.671356\n",
      "[464]\teval-auc:0.671357\n",
      "[465]\teval-auc:0.671355\n",
      "[466]\teval-auc:0.671380\n",
      "[467]\teval-auc:0.671390\n",
      "[468]\teval-auc:0.671409\n",
      "[469]\teval-auc:0.671412\n",
      "[470]\teval-auc:0.671421\n",
      "[471]\teval-auc:0.671438\n",
      "[472]\teval-auc:0.671438\n",
      "[473]\teval-auc:0.671444\n",
      "[474]\teval-auc:0.671446\n",
      "[475]\teval-auc:0.671447\n",
      "[476]\teval-auc:0.671470\n",
      "[477]\teval-auc:0.671477\n",
      "[478]\teval-auc:0.671498\n",
      "[479]\teval-auc:0.671509\n",
      "[480]\teval-auc:0.671516\n",
      "[481]\teval-auc:0.671526\n",
      "[482]\teval-auc:0.671535\n",
      "[483]\teval-auc:0.671556\n",
      "[484]\teval-auc:0.671552\n",
      "[485]\teval-auc:0.671556\n",
      "[486]\teval-auc:0.671556\n",
      "[487]\teval-auc:0.671560\n",
      "[488]\teval-auc:0.671558\n",
      "[489]\teval-auc:0.671565\n",
      "[490]\teval-auc:0.671586\n",
      "[491]\teval-auc:0.671601\n",
      "[492]\teval-auc:0.671614\n",
      "[493]\teval-auc:0.671630\n",
      "[494]\teval-auc:0.671654\n",
      "[495]\teval-auc:0.671653\n",
      "[496]\teval-auc:0.671677\n",
      "[497]\teval-auc:0.671680\n",
      "[498]\teval-auc:0.671688\n",
      "[499]\teval-auc:0.671703\n",
      "[500]\teval-auc:0.671720\n",
      "[501]\teval-auc:0.671733\n",
      "[502]\teval-auc:0.671736\n",
      "[503]\teval-auc:0.671758\n",
      "[504]\teval-auc:0.671771\n",
      "[505]\teval-auc:0.671791\n",
      "[506]\teval-auc:0.671812\n",
      "[507]\teval-auc:0.671821\n",
      "[508]\teval-auc:0.671812\n",
      "[509]\teval-auc:0.671814\n",
      "[510]\teval-auc:0.671817\n",
      "[511]\teval-auc:0.671832\n",
      "[512]\teval-auc:0.671835\n",
      "[513]\teval-auc:0.671845\n",
      "[514]\teval-auc:0.671841\n",
      "[515]\teval-auc:0.671845\n",
      "[516]\teval-auc:0.671855\n",
      "[517]\teval-auc:0.671867\n",
      "[518]\teval-auc:0.671868\n",
      "[519]\teval-auc:0.671876\n",
      "[520]\teval-auc:0.671891\n",
      "[521]\teval-auc:0.671893\n",
      "[522]\teval-auc:0.671893\n",
      "[523]\teval-auc:0.671906\n",
      "[524]\teval-auc:0.671907\n",
      "[525]\teval-auc:0.671908\n",
      "[526]\teval-auc:0.671911\n",
      "[527]\teval-auc:0.671922\n",
      "[528]\teval-auc:0.671924\n",
      "[529]\teval-auc:0.671917\n",
      "[530]\teval-auc:0.671930\n",
      "[531]\teval-auc:0.671936\n",
      "[532]\teval-auc:0.671938\n",
      "[533]\teval-auc:0.671936\n",
      "[534]\teval-auc:0.671942\n",
      "[535]\teval-auc:0.671950\n",
      "[536]\teval-auc:0.671951\n",
      "[537]\teval-auc:0.671950\n",
      "[538]\teval-auc:0.671961\n",
      "[539]\teval-auc:0.671974\n",
      "[540]\teval-auc:0.671982\n",
      "[541]\teval-auc:0.671990\n",
      "[542]\teval-auc:0.671993\n",
      "[543]\teval-auc:0.671989\n",
      "[544]\teval-auc:0.671995\n",
      "[545]\teval-auc:0.672007\n",
      "[546]\teval-auc:0.672008\n",
      "[547]\teval-auc:0.672012\n",
      "[548]\teval-auc:0.672028\n",
      "[549]\teval-auc:0.672037\n",
      "[550]\teval-auc:0.672060\n",
      "[551]\teval-auc:0.672064\n",
      "[552]\teval-auc:0.672067\n",
      "[553]\teval-auc:0.672067\n",
      "[554]\teval-auc:0.672082\n",
      "[555]\teval-auc:0.672086\n",
      "[556]\teval-auc:0.672087\n",
      "[557]\teval-auc:0.672084\n",
      "[558]\teval-auc:0.672084\n",
      "[559]\teval-auc:0.672089\n",
      "[560]\teval-auc:0.672100\n",
      "[561]\teval-auc:0.672117\n",
      "[562]\teval-auc:0.672138\n",
      "[563]\teval-auc:0.672146\n",
      "[564]\teval-auc:0.672165\n",
      "[565]\teval-auc:0.672172\n",
      "[566]\teval-auc:0.672166\n",
      "[567]\teval-auc:0.672170\n",
      "[568]\teval-auc:0.672178\n",
      "[569]\teval-auc:0.672198\n",
      "[570]\teval-auc:0.672203\n",
      "[571]\teval-auc:0.672210\n",
      "[572]\teval-auc:0.672215\n",
      "[573]\teval-auc:0.672205\n",
      "[574]\teval-auc:0.672213\n",
      "[575]\teval-auc:0.672212\n",
      "[576]\teval-auc:0.672221\n",
      "[577]\teval-auc:0.672238\n",
      "[578]\teval-auc:0.672260\n",
      "[579]\teval-auc:0.672257\n",
      "[580]\teval-auc:0.672272\n",
      "[581]\teval-auc:0.672285\n",
      "[582]\teval-auc:0.672295\n",
      "[583]\teval-auc:0.672293\n",
      "[584]\teval-auc:0.672300\n",
      "[585]\teval-auc:0.672303\n",
      "[586]\teval-auc:0.672309\n",
      "[587]\teval-auc:0.672305\n",
      "[588]\teval-auc:0.672298\n",
      "[589]\teval-auc:0.672306\n",
      "[590]\teval-auc:0.672300\n",
      "[591]\teval-auc:0.672304\n",
      "[592]\teval-auc:0.672321\n",
      "[593]\teval-auc:0.672319\n",
      "[594]\teval-auc:0.672325\n",
      "[595]\teval-auc:0.672339\n",
      "[596]\teval-auc:0.672343\n",
      "[597]\teval-auc:0.672345\n",
      "[598]\teval-auc:0.672349\n",
      "[599]\teval-auc:0.672352\n",
      "[600]\teval-auc:0.672358\n",
      "[601]\teval-auc:0.672366\n",
      "[602]\teval-auc:0.672376\n",
      "[603]\teval-auc:0.672386\n",
      "[604]\teval-auc:0.672391\n",
      "[605]\teval-auc:0.672402\n",
      "[606]\teval-auc:0.672400\n",
      "[607]\teval-auc:0.672413\n",
      "[608]\teval-auc:0.672420\n",
      "[609]\teval-auc:0.672435\n",
      "[610]\teval-auc:0.672449\n",
      "[611]\teval-auc:0.672443\n",
      "[612]\teval-auc:0.672449\n",
      "[613]\teval-auc:0.672442\n",
      "[614]\teval-auc:0.672443\n",
      "[615]\teval-auc:0.672449\n",
      "[616]\teval-auc:0.672459\n",
      "[617]\teval-auc:0.672474\n",
      "[618]\teval-auc:0.672489\n",
      "[619]\teval-auc:0.672488\n",
      "[620]\teval-auc:0.672504\n",
      "[621]\teval-auc:0.672505\n",
      "[622]\teval-auc:0.672498\n",
      "[623]\teval-auc:0.672502\n",
      "[624]\teval-auc:0.672498\n",
      "[625]\teval-auc:0.672509\n",
      "[626]\teval-auc:0.672497\n",
      "[627]\teval-auc:0.672507\n",
      "[628]\teval-auc:0.672521\n",
      "[629]\teval-auc:0.672529\n",
      "[630]\teval-auc:0.672524\n",
      "[631]\teval-auc:0.672535\n",
      "[632]\teval-auc:0.672537\n",
      "[633]\teval-auc:0.672547\n",
      "[634]\teval-auc:0.672558\n",
      "[635]\teval-auc:0.672567\n",
      "[636]\teval-auc:0.672573\n",
      "[637]\teval-auc:0.672574\n",
      "[638]\teval-auc:0.672575\n",
      "[639]\teval-auc:0.672589\n",
      "[640]\teval-auc:0.672592\n",
      "[641]\teval-auc:0.672602\n",
      "[642]\teval-auc:0.672607\n",
      "[643]\teval-auc:0.672624\n",
      "[644]\teval-auc:0.672628\n",
      "[645]\teval-auc:0.672641\n",
      "[646]\teval-auc:0.672632\n",
      "[647]\teval-auc:0.672644\n",
      "[648]\teval-auc:0.672649\n",
      "[649]\teval-auc:0.672655\n",
      "[650]\teval-auc:0.672648\n",
      "[651]\teval-auc:0.672658\n",
      "[652]\teval-auc:0.672655\n",
      "[653]\teval-auc:0.672663\n",
      "[654]\teval-auc:0.672661\n",
      "[655]\teval-auc:0.672662\n",
      "[656]\teval-auc:0.672655\n",
      "[657]\teval-auc:0.672662\n",
      "[658]\teval-auc:0.672657\n",
      "[659]\teval-auc:0.672659\n",
      "[660]\teval-auc:0.672671\n",
      "[661]\teval-auc:0.672682\n",
      "[662]\teval-auc:0.672678\n",
      "[663]\teval-auc:0.672694\n",
      "[664]\teval-auc:0.672709\n",
      "[665]\teval-auc:0.672702\n",
      "[666]\teval-auc:0.672703\n",
      "[667]\teval-auc:0.672716\n",
      "[668]\teval-auc:0.672724\n",
      "[669]\teval-auc:0.672728\n",
      "[670]\teval-auc:0.672736\n",
      "[671]\teval-auc:0.672737\n",
      "[672]\teval-auc:0.672730\n",
      "[673]\teval-auc:0.672752\n",
      "[674]\teval-auc:0.672745\n",
      "[675]\teval-auc:0.672738\n",
      "[676]\teval-auc:0.672741\n",
      "[677]\teval-auc:0.672747\n",
      "[678]\teval-auc:0.672748\n",
      "[679]\teval-auc:0.672751\n",
      "[680]\teval-auc:0.672756\n",
      "[681]\teval-auc:0.672760\n",
      "[682]\teval-auc:0.672754\n",
      "[683]\teval-auc:0.672747\n",
      "[684]\teval-auc:0.672741\n",
      "[685]\teval-auc:0.672736\n",
      "[686]\teval-auc:0.672734\n",
      "[687]\teval-auc:0.672739\n",
      "[688]\teval-auc:0.672740\n",
      "[689]\teval-auc:0.672735\n",
      "[690]\teval-auc:0.672749\n",
      "[691]\teval-auc:0.672759\n",
      "[692]\teval-auc:0.672763\n",
      "[693]\teval-auc:0.672770\n",
      "[694]\teval-auc:0.672766\n",
      "[695]\teval-auc:0.672769\n",
      "[696]\teval-auc:0.672773\n",
      "[697]\teval-auc:0.672782\n",
      "[698]\teval-auc:0.672773\n",
      "[699]\teval-auc:0.672773\n",
      "[700]\teval-auc:0.672775\n",
      "[701]\teval-auc:0.672784\n",
      "[702]\teval-auc:0.672787\n",
      "[703]\teval-auc:0.672784\n",
      "[704]\teval-auc:0.672781\n",
      "[705]\teval-auc:0.672789\n",
      "[706]\teval-auc:0.672788\n",
      "[707]\teval-auc:0.672786\n",
      "[708]\teval-auc:0.672794\n",
      "[709]\teval-auc:0.672803\n",
      "[710]\teval-auc:0.672807\n",
      "[711]\teval-auc:0.672800\n",
      "[712]\teval-auc:0.672794\n",
      "[713]\teval-auc:0.672797\n",
      "[714]\teval-auc:0.672792\n",
      "[715]\teval-auc:0.672803\n",
      "[716]\teval-auc:0.672802\n",
      "[717]\teval-auc:0.672792\n",
      "[718]\teval-auc:0.672799\n",
      "[719]\teval-auc:0.672793\n",
      "[720]\teval-auc:0.672800\n",
      "[721]\teval-auc:0.672812\n",
      "[722]\teval-auc:0.672809\n",
      "[723]\teval-auc:0.672806\n",
      "[724]\teval-auc:0.672802\n",
      "[725]\teval-auc:0.672802\n",
      "[726]\teval-auc:0.672806\n",
      "[727]\teval-auc:0.672811\n",
      "[728]\teval-auc:0.672812\n",
      "[729]\teval-auc:0.672816\n",
      "[730]\teval-auc:0.672809\n",
      "[731]\teval-auc:0.672808\n",
      "[732]\teval-auc:0.672806\n",
      "[733]\teval-auc:0.672812\n",
      "[734]\teval-auc:0.672813\n",
      "[735]\teval-auc:0.672824\n",
      "[736]\teval-auc:0.672827\n",
      "[737]\teval-auc:0.672824\n",
      "[738]\teval-auc:0.672826\n",
      "[739]\teval-auc:0.672815\n",
      "[740]\teval-auc:0.672820\n",
      "[741]\teval-auc:0.672834\n",
      "[742]\teval-auc:0.672843\n",
      "[743]\teval-auc:0.672849\n",
      "[744]\teval-auc:0.672844\n",
      "[745]\teval-auc:0.672837\n",
      "[746]\teval-auc:0.672847\n",
      "[747]\teval-auc:0.672851\n",
      "[748]\teval-auc:0.672844\n",
      "[749]\teval-auc:0.672845\n",
      "[750]\teval-auc:0.672836\n",
      "[751]\teval-auc:0.672830\n",
      "[752]\teval-auc:0.672845\n",
      "[753]\teval-auc:0.672839\n",
      "[754]\teval-auc:0.672834\n",
      "[755]\teval-auc:0.672836\n",
      "[756]\teval-auc:0.672842\n",
      "[757]\teval-auc:0.672845\n",
      "[758]\teval-auc:0.672850\n",
      "[759]\teval-auc:0.672854\n",
      "[760]\teval-auc:0.672847\n",
      "[761]\teval-auc:0.672856\n",
      "[762]\teval-auc:0.672856\n",
      "[763]\teval-auc:0.672860\n",
      "[764]\teval-auc:0.672865\n",
      "[765]\teval-auc:0.672873\n",
      "[766]\teval-auc:0.672870\n",
      "[767]\teval-auc:0.672876\n",
      "[768]\teval-auc:0.672877\n",
      "[769]\teval-auc:0.672889\n",
      "[770]\teval-auc:0.672893\n",
      "[771]\teval-auc:0.672886\n",
      "[772]\teval-auc:0.672893\n",
      "[773]\teval-auc:0.672889\n",
      "[774]\teval-auc:0.672893\n",
      "[775]\teval-auc:0.672892\n",
      "[776]\teval-auc:0.672884\n",
      "[777]\teval-auc:0.672892\n",
      "[778]\teval-auc:0.672898\n",
      "[779]\teval-auc:0.672900\n",
      "[780]\teval-auc:0.672889\n",
      "[781]\teval-auc:0.672880\n",
      "[782]\teval-auc:0.672887\n",
      "[783]\teval-auc:0.672897\n",
      "[784]\teval-auc:0.672892\n",
      "[785]\teval-auc:0.672889\n",
      "[786]\teval-auc:0.672884\n",
      "[787]\teval-auc:0.672876\n",
      "[788]\teval-auc:0.672881\n",
      "[789]\teval-auc:0.672877\n",
      "[790]\teval-auc:0.672882\n",
      "[791]\teval-auc:0.672881\n",
      "Stopping. Best iteration:\n",
      "[779]\teval-auc:0.672900\n",
      "\n"
     ]
    }
   ],
   "source": [
    "# bst = xgb.train(params=list(params.items()), dtrain=dtrain, num_boost_round=5000, early_stopping_rounds=12)\n",
    "num_trees = 5000\n",
    "esr = 12\n",
    "gbm = xgb.train(params, dtrain, num_trees, evals=watchlist, verbose_eval=True, early_stopping_rounds = esr)"
   ]
  },
  {
   "cell_type": "code",
   "execution_count": 65,
   "metadata": {
    "collapsed": false
   },
   "outputs": [
    {
     "data": {
      "text/plain": [
       "779"
      ]
     },
     "execution_count": 65,
     "metadata": {},
     "output_type": "execute_result"
    }
   ],
   "source": [
    "gbm.best_ntree_limit"
   ]
  },
  {
   "cell_type": "code",
   "execution_count": 66,
   "metadata": {
    "collapsed": true
   },
   "outputs": [],
   "source": [
    "dtrain = xgb.DMatrix(X, y)\n",
    "dtest = xgb.DMatrix(test)"
   ]
  },
  {
   "cell_type": "code",
   "execution_count": 69,
   "metadata": {
    "collapsed": false
   },
   "outputs": [],
   "source": [
    "gbm = xgb.train(params, dtrain, 780)"
   ]
  },
  {
   "cell_type": "code",
   "execution_count": 71,
   "metadata": {
    "collapsed": true
   },
   "outputs": [],
   "source": [
    "prediction = gbm.predict(dtest, ntree_limit=780)"
   ]
  },
  {
   "cell_type": "markdown",
   "metadata": {},
   "source": [
    "# save"
   ]
  },
  {
   "cell_type": "code",
   "execution_count": 72,
   "metadata": {
    "collapsed": true
   },
   "outputs": [],
   "source": [
    "response = pd.DataFrame()\n",
    "response[\"Ids\"] = np.arange(test.shape[0])\n",
    "response[\"Y_prob\"] = prediction\n",
    " \n",
    "response.to_csv('kek779.csv',index=None)"
   ]
  },
  {
   "cell_type": "code",
   "execution_count": 75,
   "metadata": {
    "collapsed": true
   },
   "outputs": [],
   "source": [
    "prediction = gbm.predict(dtrain, ntree_limit=780)"
   ]
  },
  {
   "cell_type": "code",
   "execution_count": 76,
   "metadata": {
    "collapsed": true
   },
   "outputs": [],
   "source": [
    "response = pd.DataFrame()\n",
    "response[\"Ids\"] = np.arange(X.shape[0])\n",
    "response[\"Y_prob\"] = prediction\n",
    " \n",
    "response.to_csv('train779.csv',index=None)"
   ]
  },
  {
   "cell_type": "code",
   "execution_count": null,
   "metadata": {
    "collapsed": true
   },
   "outputs": [],
   "source": []
  },
  {
   "cell_type": "code",
   "execution_count": null,
   "metadata": {
    "collapsed": true
   },
   "outputs": [],
   "source": []
  },
  {
   "cell_type": "code",
   "execution_count": null,
   "metadata": {
    "collapsed": true
   },
   "outputs": [],
   "source": []
  },
  {
   "cell_type": "code",
   "execution_count": null,
   "metadata": {
    "collapsed": false
   },
   "outputs": [],
   "source": [
    "# %%time\n",
    "from sklearn.ensemble import RandomForestClassifier\n",
    "\n",
    "#Также обучим более \"случайную\" версию RandomForest\n",
    "model = RandomForestClassifier(n_estimators=779,n_jobs=16,min_samples_split=75,min_samples_leaf=20)\n",
    "\n",
    "model.fit(X, y)"
   ]
  },
  {
   "cell_type": "code",
   "execution_count": null,
   "metadata": {
    "collapsed": true
   },
   "outputs": [],
   "source": [
    "res = model.predict_proba(test)"
   ]
  },
  {
   "cell_type": "code",
   "execution_count": null,
   "metadata": {
    "collapsed": false
   },
   "outputs": [],
   "source": [
    "res = res[:, 1]\n",
    "\n",
    "response = pd.DataFrame()\n",
    "response[\"Ids\"] = np.arange(test.shape[0])\n",
    "response[\"Y_prob\"] = res\n",
    " \n",
    "response.to_csv('rf_test779.csv',index=None)"
   ]
  },
  {
   "cell_type": "code",
   "execution_count": null,
   "metadata": {
    "collapsed": true
   },
   "outputs": [],
   "source": [
    "res = model.predict_proba(X)\n",
    "\n",
    "res = res[:, 1]\n",
    "\n",
    "response = pd.DataFrame()\n",
    "response[\"Ids\"] = np.arange(X.shape[0])\n",
    "response[\"Y_prob\"] = res\n",
    " \n",
    "response.to_csv('rf_train779.csv',index=None)"
   ]
  },
  {
   "cell_type": "code",
   "execution_count": null,
   "metadata": {
    "collapsed": true
   },
   "outputs": [],
   "source": [
    "np.corr(res, prediction)"
   ]
  },
  {
   "cell_type": "code",
   "execution_count": null,
   "metadata": {
    "collapsed": true
   },
   "outputs": [],
   "source": []
  },
  {
   "cell_type": "code",
   "execution_count": null,
   "metadata": {
    "collapsed": false
   },
   "outputs": [],
   "source": [
    "# from datanight import plot_forest_feature_importances\n",
    "# plot_forest_feature_importances(model,X.columns)"
   ]
  },
  {
   "cell_type": "code",
   "execution_count": null,
   "metadata": {
    "collapsed": false
   },
   "outputs": [],
   "source": [
    "# from datanight import generate_submission\n",
    "# generate_submission(preprocess_data,model,\"submission.csv\")"
   ]
  },
  {
   "cell_type": "markdown",
   "metadata": {},
   "source": [
    "# Советы по улучшению модели:\n",
    "\n",
    "* Смотри глазами на данные - строй графики, исследуй аномалия \n",
    " * это может принести новые идеи и отбросить нежизнеспособные намного раньше \n",
    " * Туториал по библиотеке, в которой можно строить графики \n",
    "   * http://matplotlib.org/users/pyplot_tutorial.html\n",
    " * Ключевой вопрос самому себе - __\"От чего ещё может зависеть, сгорит ли заказ?\"__\n",
    "\n",
    "\n",
    "* Попробуй более точно настроить модель или выбрать другую\n",
    " * Random Forest с текущими параметрами можно улучшить\n",
    "   * Документация по нему - http://scikit-learn.org/stable/modules/generated/sklearn.ensemble.RandomForestClassifier.html\n",
    " * А можно использовать другие, более подходящие методы\n",
    "   * Документация по методам - http://scikit-learn.org/stable/supervised_learning.html\n",
    " * Наконец, модели можно комбинировать\n",
    "   * Например, усреднять с весами\n",
    "   * В итоге качество может быть лучше, чем у каждой модели по отдельности\n",
    " * Важно не увлечься - зачастую качественные изменения решения намного лучше подкручивания параметров\n",
    "\n",
    "\n",
    "* Подумай, какие ещё дополнительные данные можно провязать с выборкой? \n",
    " * насколько реально применить их за отведённое время?\n",
    "\n",
    "\n",
    "* __Главное__ - пытайся понять, дадут ли твои улучшения прирост на новых данных\n",
    " * Тестовая выборка находится по времени дальше, чем обучающая.\n",
    "   * Например, нельзя использовать номер дня в году, потому что мы обучаемся на выборке __ДО__ начала контрольной\n",
    " * Это не значит, что нужно отправлять миллион решений на проверку и выбирать лучшее - это приведёт к переобучению\n",
    " "
   ]
  },
  {
   "cell_type": "code",
   "execution_count": null,
   "metadata": {
    "collapsed": true
   },
   "outputs": [],
   "source": []
  }
 ],
 "metadata": {
  "kernelspec": {
   "display_name": "Python 2",
   "language": "python",
   "name": "python2"
  },
  "language_info": {
   "codemirror_mode": {
    "name": "ipython",
    "version": 2
   },
   "file_extension": ".py",
   "mimetype": "text/x-python",
   "name": "python",
   "nbconvert_exporter": "python",
   "pygments_lexer": "ipython2",
   "version": "2.7.11"
  }
 },
 "nbformat": 4,
 "nbformat_minor": 0
}
