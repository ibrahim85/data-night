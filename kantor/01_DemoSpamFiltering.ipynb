{
 "cells": [
  {
   "cell_type": "markdown",
   "metadata": {},
   "source": [
    "_Подготовил: Виктор Кантор_"
   ]
  },
  {
   "cell_type": "markdown",
   "metadata": {},
   "source": [
    "## Демонстрация к занятию 1. Текстовый классификатор за 5 минут"
   ]
  },
  {
   "cell_type": "markdown",
   "metadata": {},
   "source": [
    "Выборка: SMSSpamCollection (http://www.dt.fee.unicamp.br/~tiago/smsspamcollection/)\n",
    "    \n",
    "Цель: построить простой текстовый классификатор (в данном случае классы \"спам\" и \"не спам\")\n",
    "\n",
    "Попробуйте угадать:\n",
    "1. Сколько строк кода у нас займет всё вместе?\n",
    "2. Сколько времени потребуется для написания кода вместе с кросс-валидацией?\n",
    "3. Сколько времени для перебора всех основных алгоритмов классификации из sklearn на этой задаче?"
   ]
  },
  {
   "cell_type": "markdown",
   "metadata": {},
   "source": [
    "Весь код ниже писался быстро, нигде не оптимально с эстетической точки зрения и с точки зрения времени выполнения, и в приличный вид не приводился. Однако единственное место, где это имело значение - чтение данных. Для работы с выборкой, кстати, тоже есть очень удобный питоновский пакет - pandas. Здесь он не использовался, но с ним можно довольно быстро познакомиться, если уже получается ориентироваться в стандартных типах и типах из numpy.\n",
    "\n",
    "Итак, для начала зададим путь к файлу с выборкой. У меня он выглядел так:"
   ]
  },
  {
   "cell_type": "code",
   "execution_count": 10,
   "metadata": {
    "collapsed": false
   },
   "outputs": [
    {
     "name": "stdout",
     "output_type": "stream",
     "text": [
      "01_DemoSpamFiltering.ipynb            test.csv\r\n",
      "01_HealthCareDecisions_2ndPlace.ipynb train.csv\r\n",
      "01_PandasTutorial.ipynb\r\n"
     ]
    }
   ],
   "source": [
    "data_path = \"./\"\n",
    "!cd ../\n",
    "!ls\n"
   ]
  },
  {
   "cell_type": "markdown",
   "metadata": {},
   "source": [
    "Импортируем модуль с логистической регрессией (ей мы и будем классифицировать тексты) и с подсчетом по тексту частот слов, входящих в него (CountVectorizer). Сразу считаем всю выборку, чего, конечно, нельзя ни в коем случае делать, если она велика."
   ]
  },
  {
   "cell_type": "code",
   "execution_count": 93,
   "metadata": {
    "collapsed": false
   },
   "outputs": [],
   "source": [
    "from sklearn.linear_model import LogisticRegression\n",
    "from sklearn.feature_extraction.text import CountVectorizer\n",
    "\n",
    "\n",
    "input_file = open('./SMSSpamCollection.txt', 'r')\n",
    "text = input_file.read()"
   ]
  },
  {
   "cell_type": "code",
   "execution_count": 97,
   "metadata": {
    "collapsed": false
   },
   "outputs": [],
   "source": [
    "isSpam = [int(line.split('\\t')[0].replace('ham', '0').replace('spam','1')) for line in text.split('\\n') if len(line) > 0]"
   ]
  },
  {
   "cell_type": "code",
   "execution_count": 99,
   "metadata": {
    "collapsed": false
   },
   "outputs": [
    {
     "name": "stdout",
     "output_type": "stream",
     "text": [
      "[0, 0, 1, 0, 0]\n"
     ]
    }
   ],
   "source": [
    "print isSpam[:5]"
   ]
  },
  {
   "cell_type": "markdown",
   "metadata": {},
   "source": [
    "Аналогично создаем список текстов смс-сообщений:"
   ]
  },
  {
   "cell_type": "code",
   "execution_count": 95,
   "metadata": {
    "collapsed": false
   },
   "outputs": [],
   "source": [
    "texts = [line.split('\\t')[1] for line in text.split('\\n') if len(line) > 0]"
   ]
  },
  {
   "cell_type": "code",
   "execution_count": 16,
   "metadata": {
    "collapsed": false
   },
   "outputs": [
    {
     "name": "stdout",
     "output_type": "stream",
     "text": [
      "5574\n"
     ]
    }
   ],
   "source": [
    "print len(texts)"
   ]
  },
  {
   "cell_type": "markdown",
   "metadata": {},
   "source": [
    "Теперь создадим экземпляр класса CountVectorizer и вызовем у него метод fit_transform, чтобы сразу и обучить словарь и вернуть матрицу признаков для текстов. Есть и раздельные методы fit() и transform() "
   ]
  },
  {
   "cell_type": "code",
   "execution_count": 23,
   "metadata": {
    "collapsed": false
   },
   "outputs": [
    {
     "ename": "NameError",
     "evalue": "name 'doc' is not defined",
     "output_type": "error",
     "traceback": [
      "\u001b[0;31m---------------------------------------------------------------------------\u001b[0m",
      "\u001b[0;31mNameError\u001b[0m                                 Traceback (most recent call last)",
      "\u001b[0;32m<ipython-input-23-5eb9ca21ce76>\u001b[0m in \u001b[0;36m<module>\u001b[0;34m()\u001b[0m\n\u001b[1;32m      2\u001b[0m \u001b[0mX\u001b[0m \u001b[0;34m=\u001b[0m \u001b[0mvectorizer\u001b[0m\u001b[0;34m.\u001b[0m\u001b[0mfit_transform\u001b[0m\u001b[0;34m(\u001b[0m\u001b[0mtexts\u001b[0m\u001b[0;34m)\u001b[0m\u001b[0;34m\u001b[0m\u001b[0m\n\u001b[1;32m      3\u001b[0m \u001b[0mtype\u001b[0m\u001b[0;34m(\u001b[0m\u001b[0mvectorizer\u001b[0m\u001b[0;34m)\u001b[0m\u001b[0;34m\u001b[0m\u001b[0m\n\u001b[0;32m----> 4\u001b[0;31m \u001b[0mvectorizer\u001b[0m\u001b[0;34m.\u001b[0m\u001b[0mdecode\u001b[0m\u001b[0;34m(\u001b[0m\u001b[0mdoc\u001b[0m\u001b[0;34m)\u001b[0m\u001b[0;34m\u001b[0m\u001b[0m\n\u001b[0m",
      "\u001b[0;31mNameError\u001b[0m: name 'doc' is not defined"
     ]
    }
   ],
   "source": [
    "vectorizer = CountVectorizer()\n",
    "X = vectorizer.fit_transform(texts)\n",
    "type(vectorizer)\n",
    "vectorizer.decode(doc)\n"
   ]
  },
  {
   "cell_type": "markdown",
   "metadata": {},
   "source": [
    "Интересно, какого типа полученная матрица. Ясно, что в одном тексте используется лишь небольшая часть словаря. Значит, в матрице будет много нулей. Хранить кучу нулей в памяти выглядит довольно странно, поэтому матрица записана в специальном формате для разреженных матриц."
   ]
  },
  {
   "cell_type": "markdown",
   "metadata": {},
   "source": [
    "Теперь посчитаем качество в кросс-валидации для разных классификаторов:"
   ]
  },
  {
   "cell_type": "code",
   "execution_count": 24,
   "metadata": {
    "collapsed": false
   },
   "outputs": [],
   "source": [
    "from sklearn.cross_validation import cross_val_score"
   ]
  },
  {
   "cell_type": "code",
   "execution_count": 25,
   "metadata": {
    "collapsed": false
   },
   "outputs": [
    {
     "name": "stdout",
     "output_type": "stream",
     "text": [
      "0.925586303666\n"
     ]
    }
   ],
   "source": [
    "import numpy as np\n",
    "\n",
    "classifier = LogisticRegression()\n",
    "print np.mean(cross_val_score(classifier, X, np.array(y), scoring=\"f1\"))"
   ]
  },
  {
   "cell_type": "code",
   "execution_count": 27,
   "metadata": {
    "collapsed": false
   },
   "outputs": [
    {
     "data": {
      "text/plain": [
       "LogisticRegression(C=1.0, class_weight=None, dual=False, fit_intercept=True,\n",
       "          intercept_scaling=1, max_iter=100, multi_class='ovr',\n",
       "          penalty='l2', random_state=None, solver='liblinear', tol=0.0001,\n",
       "          verbose=0)"
      ]
     },
     "execution_count": 27,
     "metadata": {},
     "output_type": "execute_result"
    }
   ],
   "source": [
    "classifier.fit(X, y)"
   ]
  },
  {
   "cell_type": "code",
   "execution_count": 194,
   "metadata": {
    "collapsed": false
   },
   "outputs": [
    {
     "data": {
      "text/plain": [
       "array([1])"
      ]
     },
     "execution_count": 194,
     "metadata": {},
     "output_type": "execute_result"
    }
   ],
   "source": [
    "classifier.predict(vectorizer.transform([\"FreeMsg: Txt: CALL to No: 86888 & claim your reward of 3 hours talk time to use from your phone now! Subscribe6GB\"]))"
   ]
  },
  {
   "cell_type": "markdown",
   "metadata": {},
   "source": [
    "Написание всего кода, вместе с пояснениями, заняло минуты. Чтобы прогнать на данных все подходящие модели из sklearn, уйдет немногим больше, чем суммарное время их работы. В этом плюсы быстрого прототипирования на Python с использованием доступных на нём пакетов. Есть множество столь же удобных инструментов и для гораздо более сложной работы с данными, чем в этом примере. Сейчас все это в нашем распоряжении, нужно только потратить силы на начальное изучение примеров и документации."
   ]
  },
  {
   "cell_type": "code",
   "execution_count": null,
   "metadata": {
    "collapsed": true
   },
   "outputs": [],
   "source": []
  },
  {
   "cell_type": "code",
   "execution_count": 270,
   "metadata": {
    "collapsed": false
   },
   "outputs": [
    {
     "name": "stdout",
     "output_type": "stream",
     "text": [
      "0    11\n",
      "1     2\n",
      "2    28\n",
      "3     7\n",
      "4     6\n",
      "5    32\n",
      "6    13\n",
      "7    15\n",
      "8    26\n",
      "9    29\n",
      "dtype: int64\n"
     ]
    }
   ],
   "source": [
    "from pandas import *\n",
    "spamcounter = {}\n",
    "for i in range(0, len(texts)):\n",
    "    for word in texts[i].lower().split():\n",
    "        try:\n",
    "            if (isSpam[i] == 1):\n",
    "                spamcounter[word] += 1   \n",
    "        except KeyError:\n",
    "            if (isSpam[i] == 1):\n",
    "                spamcounter[word] = 1\n",
    "            else:\n",
    "                spamcounter[word] = 0\n",
    "\n",
    "sc = Series(spamcounter)\n",
    "spamRate = {}\n",
    "for i in range(0, len(texts)):\n",
    "    spamRate[i] = 0\n",
    "    for word in texts[i].lower().split():\n",
    "        if sc.get(word) is not None:\n",
    "            spamRate[i] = spamRate[i] + 1\n",
    "\n",
    "srs = Series(spamRate)\n",
    "print srs[:10]\n"
   ]
  },
  {
   "cell_type": "code",
   "execution_count": 268,
   "metadata": {
    "collapsed": false
   },
   "outputs": [
    {
     "name": "stdout",
     "output_type": "stream",
     "text": [
      "Populating the interactive namespace from numpy and matplotlib\n"
     ]
    },
    {
     "name": "stderr",
     "output_type": "stream",
     "text": [
      "WARNING: pylab import has clobbered these variables: ['load', 'info', 'unique', 'text', 'datetime', 'save']\n",
      "`%matplotlib` prevents importing * from pylab and numpy\n"
     ]
    }
   ],
   "source": [
    "import pandas as pd #датафреймы\n",
    "import numpy as np #массивы, линейная алгебра\n",
    "import pylab as pl #графики\n",
    "import matplotlib as mpl #графики\n",
    "import sklearn\n",
    "%matplotlib inline\n",
    "%pylab inline\n",
    "import seaborn as sns"
   ]
  },
  {
   "cell_type": "code",
   "execution_count": 272,
   "metadata": {
    "collapsed": false
   },
   "outputs": [
    {
     "data": {
      "text/plain": [
       "count    5574.000000\n",
       "mean       11.019196\n",
       "std         9.211619\n",
       "min         0.000000\n",
       "25%         4.000000\n",
       "50%         8.000000\n",
       "75%        15.750000\n",
       "max       129.000000\n",
       "dtype: float64"
      ]
     },
     "execution_count": 272,
     "metadata": {},
     "output_type": "execute_result"
    }
   ],
   "source": [
    "srs.describe()"
   ]
  },
  {
   "cell_type": "code",
   "execution_count": 275,
   "metadata": {
    "collapsed": false
   },
   "outputs": [
    {
     "data": {
      "image/png": "[encoded data removed]",
      "text/plain": [
       "<matplotlib.figure.Figure at 0x115944790>"
      ]
     },
     "metadata": {},
     "output_type": "display_data"
    }
   ],
   "source": [
    "srs.hist(figsize=(8,5), bins=10);"
   ]
  },
  {
   "cell_type": "markdown",
   "metadata": {},
   "source": [
    "ща прикрутим колонку с резалтами"
   ]
  },
  {
   "cell_type": "code",
   "execution_count": 314,
   "metadata": {
    "collapsed": false
   },
   "outputs": [],
   "source": [
    "iss = Series(isSpam)\n",
    "data = pd.concat([srs, iss], axis=1)\n"
   ]
  },
  {
   "cell_type": "code",
   "execution_count": 317,
   "metadata": {
    "collapsed": false
   },
   "outputs": [
    {
     "name": "stdout",
     "output_type": "stream",
     "text": [
      "      spamRate  isSpam\n",
      "0           11       0\n",
      "1            2       0\n",
      "2           28       1\n",
      "3            7       0\n",
      "4            6       0\n",
      "5           32       1\n",
      "6           13       0\n",
      "7           15       0\n",
      "8           26       1\n",
      "9           29       1\n",
      "10          14       0\n",
      "11          26       1\n",
      "12          26       1\n",
      "13          26       0\n",
      "14           6       0\n",
      "15          19       1\n",
      "16           1       0\n",
      "17          11       0\n",
      "18           6       0\n",
      "19          24       1\n",
      "20           5       0\n",
      "21           7       0\n",
      "22           6       0\n",
      "23           8       0\n",
      "24           7       0\n",
      "25          14       0\n",
      "26           2       0\n",
      "27          23       0\n",
      "28           8       0\n",
      "29           4       0\n",
      "...        ...     ...\n",
      "5544         4       0\n",
      "5545         4       0\n",
      "5546        22       0\n",
      "5547         9       0\n",
      "5548         3       0\n",
      "5549        28       1\n",
      "5550         7       0\n",
      "5551        10       0\n",
      "5552         8       0\n",
      "5553         6       0\n",
      "5554         9       0\n",
      "5555         2       0\n",
      "5556        15       0\n",
      "5557        20       0\n",
      "5558         8       0\n",
      "5559        30       0\n",
      "5560         2       0\n",
      "5561         8       0\n",
      "5562         2       0\n",
      "5563         9       0\n",
      "5564         9       0\n",
      "5565         2       0\n",
      "5566        11       0\n",
      "5567         0       0\n",
      "5568        28       1\n",
      "5569        30       1\n",
      "5570         4       0\n",
      "5571         5       0\n",
      "5572        17       0\n",
      "5573         5       0\n",
      "\n",
      "[5574 rows x 2 columns]\n"
     ]
    }
   ],
   "source": [
    "data.columns = [\"spamRate\", \"isSpam\"]\n",
    "print data"
   ]
  },
  {
   "cell_type": "code",
   "execution_count": 320,
   "metadata": {
    "collapsed": false
   },
   "outputs": [
    {
     "data": {
      "text/plain": [
       "<matplotlib.text.Text at 0x1169ebc10>"
      ]
     },
     "execution_count": 320,
     "metadata": {},
     "output_type": "execute_result"
    },
    {
     "data": {
      "image/png": "[encoded data removed]",
      "text/plain": [
       "<matplotlib.figure.Figure at 0x112dc5b50>"
      ]
     },
     "metadata": {},
     "output_type": "display_data"
    }
   ],
   "source": [
    "plt.scatter(data.spamRate, data.isSpam)\n",
    "plt.xlabel('spamRate', size=10)\n",
    "plt.ylabel('isSpam', size=10)"
   ]
  }
 ],
 "metadata": {
  "kernelspec": {
   "display_name": "Python 2",
   "language": "python",
   "name": "python2"
  },
  "language_info": {
   "codemirror_mode": {
    "name": "ipython",
    "version": 2
   },
   "file_extension": ".py",
   "mimetype": "text/x-python",
   "name": "python",
   "nbconvert_exporter": "python",
   "pygments_lexer": "ipython2",
   "version": "2.7.10"
  }
 },
 "nbformat": 4,
 "nbformat_minor": 0
}
