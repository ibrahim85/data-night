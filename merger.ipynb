{
 "cells": [
  {
   "cell_type": "code",
   "execution_count": 1,
   "metadata": {
    "collapsed": true
   },
   "outputs": [],
   "source": [
    "import numpy as np\n",
    "import pandas as pd\n",
    "import xgboost as xgb"
   ]
  },
  {
   "cell_type": "code",
   "execution_count": 2,
   "metadata": {
    "collapsed": true
   },
   "outputs": [],
   "source": [
    "X = pd.read_csv('X_preprocessed.csv')\n",
    "test = pd.read_csv('test_preprocessed.csv')"
   ]
  },
  {
   "cell_type": "code",
   "execution_count": 3,
   "metadata": {
    "collapsed": true
   },
   "outputs": [],
   "source": [
    "train_cancel_times = pd.read_csv('feature_train_cancel_time.csv')\n",
    "test_cancel_times = pd.read_csv('feature_test_cancel_time.csv')\n",
    "\n",
    "train_driver_founds = pd.read_csv('feature_train_driver_found.csv')\n",
    "test_driver_founds = pd.read_csv('feature_test_driver_found.csv')\n",
    "\n",
    "train_clusters = pd.read_csv('train_clusters_vectorized.csv')\n",
    "test_clusters = pd.read_csv('test_clusters_vectorized.csv')"
   ]
  },
  {
   "cell_type": "code",
   "execution_count": 6,
   "metadata": {
    "collapsed": false
   },
   "outputs": [
    {
     "data": {
      "text/html": [
       "<div>\n",
       "<table border=\"1\" class=\"dataframe\">\n",
       "  <thead>\n",
       "    <tr style=\"text-align: right;\">\n",
       "      <th></th>\n",
       "      <th>Unnamed: 0</th>\n",
       "      <th>dist</th>\n",
       "      <th>lat</th>\n",
       "      <th>lon</th>\n",
       "      <th>city_id=-1</th>\n",
       "      <th>city_id=0</th>\n",
       "      <th>city_id=1</th>\n",
       "      <th>city_id=2</th>\n",
       "      <th>city_id=3</th>\n",
       "      <th>city_id=4</th>\n",
       "      <th>...</th>\n",
       "      <th>t_class=businesseconomvip</th>\n",
       "      <th>t_class=businessvipeconom</th>\n",
       "      <th>t_class=econombusinessvip</th>\n",
       "      <th>t_class=economvipbusiness</th>\n",
       "      <th>t_class=vipbusinesseconom</th>\n",
       "      <th>t_class=vipeconombusiness</th>\n",
       "      <th>time_of_day_rel</th>\n",
       "      <th>is_holiday</th>\n",
       "      <th>cancel_time</th>\n",
       "      <th>driver_found</th>\n",
       "    </tr>\n",
       "  </thead>\n",
       "  <tbody>\n",
       "    <tr>\n",
       "      <th>0</th>\n",
       "      <td>0</td>\n",
       "      <td>17990.125431</td>\n",
       "      <td>55.75013</td>\n",
       "      <td>37.823242</td>\n",
       "      <td>0.0</td>\n",
       "      <td>1.0</td>\n",
       "      <td>0.0</td>\n",
       "      <td>0.0</td>\n",
       "      <td>0.0</td>\n",
       "      <td>0.0</td>\n",
       "      <td>...</td>\n",
       "      <td>0.0</td>\n",
       "      <td>0.0</td>\n",
       "      <td>0.0</td>\n",
       "      <td>0.0</td>\n",
       "      <td>0.0</td>\n",
       "      <td>0.0</td>\n",
       "      <td>0.00625</td>\n",
       "      <td>True</td>\n",
       "      <td>2.100399</td>\n",
       "      <td>0.783193</td>\n",
       "    </tr>\n",
       "  </tbody>\n",
       "</table>\n",
       "<p>1 rows × 39 columns</p>\n",
       "</div>"
      ],
      "text/plain": [
       "   Unnamed: 0          dist       lat        lon  city_id=-1  city_id=0  \\\n",
       "0           0  17990.125431  55.75013  37.823242         0.0        1.0   \n",
       "\n",
       "   city_id=1  city_id=2  city_id=3  city_id=4      ...       \\\n",
       "0        0.0        0.0        0.0        0.0      ...        \n",
       "\n",
       "   t_class=businesseconomvip  t_class=businessvipeconom  \\\n",
       "0                        0.0                        0.0   \n",
       "\n",
       "   t_class=econombusinessvip  t_class=economvipbusiness  \\\n",
       "0                        0.0                        0.0   \n",
       "\n",
       "   t_class=vipbusinesseconom  t_class=vipeconombusiness  time_of_day_rel  \\\n",
       "0                        0.0                        0.0          0.00625   \n",
       "\n",
       "   is_holiday  cancel_time  driver_found  \n",
       "0        True     2.100399      0.783193  \n",
       "\n",
       "[1 rows x 39 columns]"
      ]
     },
     "execution_count": 6,
     "metadata": {},
     "output_type": "execute_result"
    }
   ],
   "source": [
    "del train_cancel_times['Unnamed: 0']\n",
    "X['cancel_time'] = train_cancel_times\n",
    "del train_driver_founds['Unnamed: 0']\n",
    "X['driver_found'] = train_driver_founds\n",
    "X.head(1)"
   ]
  },
  {
   "cell_type": "code",
   "execution_count": 13,
   "metadata": {
    "collapsed": false
   },
   "outputs": [],
   "source": [
    "del train_clusters['Unnamed: 0']\n",
    "X = pd.concat([X, train_clusters], axis=1, join_axes=[X.index])"
   ]
  },
  {
   "cell_type": "code",
   "execution_count": 9,
   "metadata": {
    "collapsed": false
   },
   "outputs": [
    {
     "data": {
      "text/html": [
       "<div>\n",
       "<table border=\"1\" class=\"dataframe\">\n",
       "  <thead>\n",
       "    <tr style=\"text-align: right;\">\n",
       "      <th></th>\n",
       "      <th>Unnamed: 0</th>\n",
       "      <th>dist</th>\n",
       "      <th>lat</th>\n",
       "      <th>lon</th>\n",
       "      <th>city_id=-1</th>\n",
       "      <th>city_id=0</th>\n",
       "      <th>city_id=1</th>\n",
       "      <th>city_id=2</th>\n",
       "      <th>city_id=3</th>\n",
       "      <th>city_id=4</th>\n",
       "      <th>...</th>\n",
       "      <th>t_class=businesseconomvip</th>\n",
       "      <th>t_class=businessvipeconom</th>\n",
       "      <th>t_class=econombusinessvip</th>\n",
       "      <th>t_class=economvipbusiness</th>\n",
       "      <th>t_class=vipbusinesseconom</th>\n",
       "      <th>t_class=vipeconombusiness</th>\n",
       "      <th>time_of_day_rel</th>\n",
       "      <th>is_holiday</th>\n",
       "      <th>cancel_time</th>\n",
       "      <th>driver_found</th>\n",
       "    </tr>\n",
       "  </thead>\n",
       "  <tbody>\n",
       "    <tr>\n",
       "      <th>0</th>\n",
       "      <td>1793300</td>\n",
       "      <td>1748.201178</td>\n",
       "      <td>55.731713</td>\n",
       "      <td>37.487353</td>\n",
       "      <td>0.0</td>\n",
       "      <td>1.0</td>\n",
       "      <td>0.0</td>\n",
       "      <td>0.0</td>\n",
       "      <td>0.0</td>\n",
       "      <td>0.0</td>\n",
       "      <td>...</td>\n",
       "      <td>0.0</td>\n",
       "      <td>0.0</td>\n",
       "      <td>1.0</td>\n",
       "      <td>0.0</td>\n",
       "      <td>0.0</td>\n",
       "      <td>0.0</td>\n",
       "      <td>0.760417</td>\n",
       "      <td>False</td>\n",
       "      <td>0.857506</td>\n",
       "      <td>0.948285</td>\n",
       "    </tr>\n",
       "  </tbody>\n",
       "</table>\n",
       "<p>1 rows × 39 columns</p>\n",
       "</div>"
      ],
      "text/plain": [
       "   Unnamed: 0         dist        lat        lon  city_id=-1  city_id=0  \\\n",
       "0     1793300  1748.201178  55.731713  37.487353         0.0        1.0   \n",
       "\n",
       "   city_id=1  city_id=2  city_id=3  city_id=4      ...       \\\n",
       "0        0.0        0.0        0.0        0.0      ...        \n",
       "\n",
       "   t_class=businesseconomvip  t_class=businessvipeconom  \\\n",
       "0                        0.0                        0.0   \n",
       "\n",
       "   t_class=econombusinessvip  t_class=economvipbusiness  \\\n",
       "0                        1.0                        0.0   \n",
       "\n",
       "   t_class=vipbusinesseconom  t_class=vipeconombusiness  time_of_day_rel  \\\n",
       "0                        0.0                        0.0         0.760417   \n",
       "\n",
       "   is_holiday  cancel_time  driver_found  \n",
       "0       False     0.857506      0.948285  \n",
       "\n",
       "[1 rows x 39 columns]"
      ]
     },
     "execution_count": 9,
     "metadata": {},
     "output_type": "execute_result"
    }
   ],
   "source": [
    "del test_cancel_times['Unnamed: 0']\n",
    "test['cancel_time'] = test_cancel_times\n",
    "del test_driver_founds['Unnamed: 0']\n",
    "test['driver_found'] = test_driver_founds\n",
    "test.head(1)"
   ]
  },
  {
   "cell_type": "code",
   "execution_count": 15,
   "metadata": {
    "collapsed": true
   },
   "outputs": [],
   "source": [
    "del test_clusters['Unnamed: 0']\n",
    "test = pd.concat([test, test_clusters], axis=1, join_axes=[test.index])"
   ]
  },
  {
   "cell_type": "code",
   "execution_count": 21,
   "metadata": {
    "collapsed": false
   },
   "outputs": [],
   "source": [
    "del X['lat']\n",
    "del X['lon']\n",
    "test = test[X.columns]"
   ]
  },
  {
   "cell_type": "code",
   "execution_count": null,
   "metadata": {
    "collapsed": true
   },
   "outputs": [],
   "source": [
    "X.to_csv('X_before_stack.csv')\n",
    "test.to_csv('test_before_stack.csv')"
   ]
  },
  {
   "cell_type": "code",
   "execution_count": null,
   "metadata": {
    "collapsed": true
   },
   "outputs": [],
   "source": []
  }
 ],
 "metadata": {
  "kernelspec": {
   "display_name": "Python 2",
   "language": "python",
   "name": "python2"
  },
  "language_info": {
   "codemirror_mode": {
    "name": "ipython",
    "version": 2
   },
   "file_extension": ".py",
   "mimetype": "text/x-python",
   "name": "python",
   "nbconvert_exporter": "python",
   "pygments_lexer": "ipython2",
   "version": "2.7.11"
  }
 },
 "nbformat": 4,
 "nbformat_minor": 0
}
