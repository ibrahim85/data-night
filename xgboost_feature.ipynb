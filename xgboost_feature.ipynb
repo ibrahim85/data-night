{
 "cells": [
  {
   "cell_type": "code",
   "execution_count": 1,
   "metadata": {
    "collapsed": true
   },
   "outputs": [],
   "source": [
    "import numpy as np\n",
    "import pandas as pd\n",
    "import xgboost as xgb"
   ]
  },
  {
   "cell_type": "markdown",
   "metadata": {},
   "source": [
    "# dist feature engineering\n"
   ]
  },
  {
   "cell_type": "code",
   "execution_count": null,
   "metadata": {
    "collapsed": true
   },
   "outputs": [],
   "source": [
    "from matplotlib import pyplot as plt\n",
    "%matplotlib inline"
   ]
  },
  {
   "cell_type": "code",
   "execution_count": 2,
   "metadata": {
    "collapsed": false
   },
   "outputs": [],
   "source": [
    "X = pd.DataFrame.from_csv('X_before_stack.csv')\n",
    "test = pd.DataFrame.from_csv('test_before_stack.csv')\n",
    "y = pd.read_csv('y.csv')\n",
    "y = np.array(y['burned'].values)"
   ]
  },
  {
   "cell_type": "code",
   "execution_count": 3,
   "metadata": {
    "collapsed": true
   },
   "outputs": [],
   "source": [
    "# del X['cancel_time']\n",
    "# del test['cancel_time']\n",
    "# del X['driver_found']\n",
    "# del test['driver_found']\n",
    "\n",
    "del X['Unnamed: 0.1']\n",
    "del test['Unnamed: 0.1']"
   ]
  },
  {
   "cell_type": "code",
   "execution_count": 4,
   "metadata": {
    "collapsed": false
   },
   "outputs": [],
   "source": [
    "X['isdist0'] = np.array([1 if x[0] == 0 else 0 for x in X.values])\n",
    "X['isdistminus1'] = np.array([1 if x[0] == -1 else 0 for x in X.values])\n",
    "\n",
    "test['isdist0'] = np.array([1 if x[0] == 0 else 0 for x in test.values])\n",
    "test['isdistminus1'] = np.array([1 if x[0] == -1 else 0 for x in test.values])"
   ]
  },
  {
   "cell_type": "code",
   "execution_count": 5,
   "metadata": {
    "collapsed": true
   },
   "outputs": [],
   "source": [
    "X_dists_log = np.log( np.array(X['dist'].values) + np.array([2.]*len(X)) )\n",
    "test_dists_log = np.log( np.array(test['dist'].values) + np.array([2.]*len(test)) )"
   ]
  },
  {
   "cell_type": "code",
   "execution_count": 6,
   "metadata": {
    "collapsed": true
   },
   "outputs": [],
   "source": [
    "X['dist'] = X_dists_log\n",
    "test['dist'] = test_dists_log"
   ]
  },
  {
   "cell_type": "code",
   "execution_count": 7,
   "metadata": {
    "collapsed": true
   },
   "outputs": [],
   "source": [
    "data = pd.read_csv('../train.csv')\n",
    "testcsv = pd.read_csv('../test.csv')"
   ]
  },
  {
   "cell_type": "code",
   "execution_count": 8,
   "metadata": {
    "collapsed": false
   },
   "outputs": [],
   "source": [
    "data.index = np.arange(0, len(data))\n",
    "testcsv.index = np.arange(0, len(testcsv))"
   ]
  },
  {
   "cell_type": "code",
   "execution_count": 9,
   "metadata": {
    "collapsed": true
   },
   "outputs": [],
   "source": [
    "X['lat'] = data['lat']\n",
    "X['lon'] = data['lon']\n",
    "test['lat'] = testcsv['lat']\n",
    "test['lon'] = testcsv['lon']"
   ]
  },
  {
   "cell_type": "code",
   "execution_count": 13,
   "metadata": {
    "collapsed": true
   },
   "outputs": [],
   "source": [
    "del X['lat']\n",
    "del X['lon']\n",
    "del test['lat']\n",
    "del test['lon']"
   ]
  },
  {
   "cell_type": "markdown",
   "metadata": {},
   "source": [
    "# gogogo"
   ]
  },
  {
   "cell_type": "code",
   "execution_count": null,
   "metadata": {
    "collapsed": true
   },
   "outputs": [],
   "source": []
  },
  {
   "cell_type": "code",
   "execution_count": null,
   "metadata": {
    "collapsed": false
   },
   "outputs": [],
   "source": []
  },
  {
   "cell_type": "code",
   "execution_count": 27,
   "metadata": {
    "collapsed": true
   },
   "outputs": [],
   "source": [
    "params = {} \n",
    "params['objective']           = \"binary:logistic\" \n",
    "params['booster']             = \"gbtree\"\n",
    "params['eval_metric']         = \"auc\"\n",
    "params['eta']                 = 0.06\n",
    "params['max_depth']           = 7\n",
    "params['subsample']           = 0.95\n",
    "params['colsample_bytree']    = 0.95\n",
    "params['seed']                = 228\n",
    "params['njobs']               = -1\n",
    "params['silent']              = 1"
   ]
  },
  {
   "cell_type": "code",
   "execution_count": 14,
   "metadata": {
    "collapsed": false
   },
   "outputs": [],
   "source": [
    "bound = int(X.shape[0]*0.9)\n",
    "x_train, x_val = X[:bound], X[bound:]\n",
    "y_train, y_val = y[:bound], y[bound:]\n",
    " \n",
    "dtrain = xgb.DMatrix(x_train, y_train)\n",
    "dval = xgb.DMatrix(x_val, y_val)\n",
    "watchlist = [(dval,'eval')]"
   ]
  },
  {
   "cell_type": "code",
   "execution_count": 28,
   "metadata": {
    "collapsed": false
   },
   "outputs": [],
   "source": [
    "num_trees = 5000\n",
    "esr = 12\n",
    "\n",
    "gbm = xgb.train(params, dtrain, num_trees, \n",
    "                evals=watchlist, verbose_eval=False, \n",
    "                early_stopping_rounds = esr)"
   ]
  },
  {
   "cell_type": "code",
   "execution_count": 29,
   "metadata": {
    "collapsed": false,
    "scrolled": true
   },
   "outputs": [
    {
     "name": "stdout",
     "output_type": "stream",
     "text": [
      "TOPCHEG:  197\n"
     ]
    }
   ],
   "source": [
    "print 'TOPCHEG: ', gbm.best_ntree_limit"
   ]
  },
  {
   "cell_type": "code",
   "execution_count": 30,
   "metadata": {
    "collapsed": false
   },
   "outputs": [
    {
     "data": {
      "text/plain": [
       "Index([u'dist', u'city_id=-1', u'city_id=0', u'city_id=1', u'city_id=2',\n",
       "       u'city_id=3', u'city_id=4', u'day_of_week=fri', u'day_of_week=mon',\n",
       "       u'day_of_week=sat',\n",
       "       ...\n",
       "       u'cluster_id=92', u'cluster_id=93', u'cluster_id=94', u'cluster_id=95',\n",
       "       u'cluster_id=96', u'cluster_id=97', u'cluster_id=98', u'cluster_id=99',\n",
       "       u'isdist0', u'isdistminus1'],\n",
       "      dtype='object', length=458)"
      ]
     },
     "execution_count": 30,
     "metadata": {},
     "output_type": "execute_result"
    }
   ],
   "source": [
    "X.columns"
   ]
  },
  {
   "cell_type": "markdown",
   "metadata": {},
   "source": [
    "### eta=0.06, subsample=0.95:  381 tree"
   ]
  },
  {
   "cell_type": "code",
   "execution_count": null,
   "metadata": {
    "collapsed": true
   },
   "outputs": [],
   "source": [
    "dtrain = xgb.DMatrix(X, y)\n",
    "dtest = xgb.DMatrix(test)"
   ]
  },
  {
   "cell_type": "code",
   "execution_count": null,
   "metadata": {
    "collapsed": true
   },
   "outputs": [],
   "source": [
    "gbm = xgb.train(params, dtrain, gbm.best_ntree_limit)\n",
    "gbm.save_model('xgb_feature.model')"
   ]
  },
  {
   "cell_type": "code",
   "execution_count": null,
   "metadata": {
    "collapsed": true
   },
   "outputs": [],
   "source": [
    "prediction = gbm.predict(dtest, ntree_limit=gbm.best_ntree_limit)"
   ]
  },
  {
   "cell_type": "code",
   "execution_count": null,
   "metadata": {
    "collapsed": true
   },
   "outputs": [],
   "source": [
    "pd.DataFrame(prediction).to_csv('feature_xgb.csv')"
   ]
  },
  {
   "cell_type": "code",
   "execution_count": null,
   "metadata": {
    "collapsed": true
   },
   "outputs": [],
   "source": [
    "response = pd.DataFrame()\n",
    "response[\"Ids\"] = np.arange(test.shape[0])\n",
    "response[\"Y_prob\"] = prediction\n",
    " \n",
    "response.to_csv('xgb_feature.csv',index=None)"
   ]
  },
  {
   "cell_type": "code",
   "execution_count": null,
   "metadata": {
    "collapsed": true
   },
   "outputs": [],
   "source": []
  }
 ],
 "metadata": {
  "kernelspec": {
   "display_name": "Python 2",
   "language": "python",
   "name": "python2"
  },
  "language_info": {
   "codemirror_mode": {
    "name": "ipython",
    "version": 2
   },
   "file_extension": ".py",
   "mimetype": "text/x-python",
   "name": "python",
   "nbconvert_exporter": "python",
   "pygments_lexer": "ipython2",
   "version": "2.7.11"
  }
 },
 "nbformat": 4,
 "nbformat_minor": 0
}
